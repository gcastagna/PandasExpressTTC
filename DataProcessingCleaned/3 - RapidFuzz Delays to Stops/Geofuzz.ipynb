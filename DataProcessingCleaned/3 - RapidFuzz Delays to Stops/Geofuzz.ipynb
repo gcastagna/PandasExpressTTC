{
 "cells": [
  {
   "cell_type": "code",
   "execution_count": 45,
   "id": "a9d7afb8",
   "metadata": {},
   "outputs": [
    {
     "name": "stdout",
     "output_type": "stream",
     "text": [
      "Requirement already satisfied: rapidfuzz in c:\\users\\gaspa\\anaconda3\\lib\\site-packages (3.5.2)\n"
     ]
    }
   ],
   "source": [
    "import numpy as numpy\n",
    "import pandas as pd\n",
    "import os\n",
    "import numpy as np\n",
    "!pip install rapidfuzz\n",
    "import re\n",
    "import datetime as dt\n",
    "import glob\n",
    "from math import radians, sin, cos, sqrt, atan2"
   ]
  },
  {
   "cell_type": "code",
   "execution_count": 46,
   "id": "fe8777d6",
   "metadata": {},
   "outputs": [],
   "source": [
    "def haversine(lat1, lon1, lat2, lon2):\n",
    "    R = 6371  # Radius of the Earth in kilometers\n",
    "\n",
    "    dlat = radians(lat2 - lat1)\n",
    "    dlon = radians(lon2 - lon1)\n",
    "\n",
    "    a = sin(dlat / 2) ** 2 + cos(radians(lat1)) * cos(radians(lat2)) * sin(dlon / 2) ** 2\n",
    "    c = 2 * atan2(sqrt(a), sqrt(1 - a))\n",
    "\n",
    "    distance = R * c\n",
    "    return distance"
   ]
  },
  {
   "cell_type": "code",
   "execution_count": 47,
   "id": "fe4f07c8",
   "metadata": {},
   "outputs": [
    {
     "name": "stderr",
     "output_type": "stream",
     "text": [
      "C:\\Users\\gaspa\\AppData\\Local\\Temp\\ipykernel_5748\\3509189521.py:1: DtypeWarning: Columns (1) have mixed types. Specify dtype option on import or set low_memory=False.\n",
      "  delays = pd.read_csv('bus_delay_raw.csv')\n"
     ]
    }
   ],
   "source": [
    "delays = pd.read_csv('bus_delay_raw.csv')\n",
    "fuzz = pd.read_csv('fuzz_locations.csv')\n",
    "stops = pd.read_csv('stops.txt')\n",
    "intersections = pd.read_csv('inter_coord.csv')"
   ]
  },
  {
   "cell_type": "code",
   "execution_count": 48,
   "id": "e0384f34",
   "metadata": {},
   "outputs": [],
   "source": [
    "from rapidfuzz import process\n",
    "def find_closest_match_threshold(row, reference_list, threshold = 40):\n",
    "    match = process.extractOne(row, reference_list)\n",
    "    if match[1] < threshold:\n",
    "        return 'not able to fuzz'\n",
    "    else:\n",
    "        return match[0]"
   ]
  },
  {
   "cell_type": "code",
   "execution_count": 51,
   "id": "93f6c14a",
   "metadata": {},
   "outputs": [
    {
     "name": "stdout",
     "output_type": "stream",
     "text": [
      "<class 'pandas.core.frame.DataFrame'>\n",
      "RangeIndex: 33695 entries, 0 to 33694\n",
      "Data columns (total 6 columns):\n",
      " #   Column               Non-Null Count  Dtype  \n",
      "---  ------               --------------  -----  \n",
      " 0   Unnamed: 0           33695 non-null  int64  \n",
      " 1   INTERSECTION_DESC    33695 non-null  object \n",
      " 2   CLASSIFICATION_DESC  33695 non-null  object \n",
      " 3   geometry             33695 non-null  object \n",
      " 4   lat                  33695 non-null  float64\n",
      " 5   lon                  33695 non-null  float64\n",
      "dtypes: float64(2), int64(1), object(3)\n",
      "memory usage: 1.5+ MB\n"
     ]
    }
   ],
   "source": [
    "intersections.info()"
   ]
  },
  {
   "cell_type": "code",
   "execution_count": 53,
   "id": "74c28784",
   "metadata": {},
   "outputs": [],
   "source": [
    "fuzz['fuzzed'] = fuzz['fuzz_locations'].apply(find_closest_match_threshold, args=(intersections['INTERSECTION_DESC'],))\n",
    "fuzz.to_csv('temp_fuzz.csv')\n",
    "fuzz = pd.merge(fuzz, intersections, left_on='fuzzed', right_on='INTERSECTION_DESC', how='left')\n",
    "\n",
    "for index, row in fuzz.iterrows():\n",
    "    lat_location, lon_location = row['lat'], row['lon']\n",
    "    \n",
    "    # Calculate distances to each stop and find the closest one\n",
    "    stops['distance'] = stops.apply(lambda stop: haversine(lat_location, lon_location, stop['stop_lat'], stop['stop_lon']), axis=1)\n",
    "    \n",
    "    # Find the closest stop row\n",
    "    closest_stop = stops.loc[stops['distance'].idxmin()]\n",
    "    \n",
    "    # Assign the closest stop information to the corresponding columns in 'fuzz'\n",
    "    fuzz.at[index, 'closest_stop'] = closest_stop['stop_name']\n",
    "    fuzz.at[index, 'stop_lon'] = closest_stop['stop_lon']\n",
    "    fuzz.at[index, 'stop_lat'] = closest_stop['stop_lat']\n",
    "    \n",
    "fuzz.to_csv('fuzz_geo.csv')"
   ]
  },
  {
   "cell_type": "code",
   "execution_count": 54,
   "id": "024f4869",
   "metadata": {},
   "outputs": [
    {
     "data": {
      "text/html": [
       "<div>\n",
       "<style scoped>\n",
       "    .dataframe tbody tr th:only-of-type {\n",
       "        vertical-align: middle;\n",
       "    }\n",
       "\n",
       "    .dataframe tbody tr th {\n",
       "        vertical-align: top;\n",
       "    }\n",
       "\n",
       "    .dataframe thead th {\n",
       "        text-align: right;\n",
       "    }\n",
       "</style>\n",
       "<table border=\"1\" class=\"dataframe\">\n",
       "  <thead>\n",
       "    <tr style=\"text-align: right;\">\n",
       "      <th></th>\n",
       "      <th>Unnamed: 0_x</th>\n",
       "      <th>fuzz_locations</th>\n",
       "      <th>fuzzed</th>\n",
       "      <th>Unnamed: 0_y</th>\n",
       "      <th>INTERSECTION_DESC</th>\n",
       "      <th>CLASSIFICATION_DESC</th>\n",
       "      <th>geometry</th>\n",
       "      <th>lat</th>\n",
       "      <th>lon</th>\n",
       "      <th>closest_stop</th>\n",
       "      <th>stop_lon</th>\n",
       "      <th>stop_lat</th>\n",
       "    </tr>\n",
       "  </thead>\n",
       "  <tbody>\n",
       "    <tr>\n",
       "      <th>0</th>\n",
       "      <td>0</td>\n",
       "      <td>lawrence&amp;warden</td>\n",
       "      <td>lawrenceavee&amp;wardenave</td>\n",
       "      <td>10975</td>\n",
       "      <td>lawrenceavee&amp;wardenave</td>\n",
       "      <td>Major-Single Level</td>\n",
       "      <td>{'type': 'MultiPoint', 'coordinates': [[-79.29...</td>\n",
       "      <td>43.745377</td>\n",
       "      <td>-79.294730</td>\n",
       "      <td>Lawrence Ave East at Warden Ave</td>\n",
       "      <td>-79.294565</td>\n",
       "      <td>43.745551</td>\n",
       "    </tr>\n",
       "    <tr>\n",
       "      <th>1</th>\n",
       "      <td>1</td>\n",
       "      <td>ellesmere&amp;victoriapark</td>\n",
       "      <td>ellesmererd</td>\n",
       "      <td>8450</td>\n",
       "      <td>ellesmererd</td>\n",
       "      <td>Minor-Single Level</td>\n",
       "      <td>{'type': 'MultiPoint', 'coordinates': [[-79.27...</td>\n",
       "      <td>43.766165</td>\n",
       "      <td>-79.279371</td>\n",
       "      <td>Ellesmere Rd at West Service Rd East Side</td>\n",
       "      <td>-79.278977</td>\n",
       "      <td>43.766111</td>\n",
       "    </tr>\n",
       "    <tr>\n",
       "      <th>2</th>\n",
       "      <td>2</td>\n",
       "      <td>markham&amp;passmore</td>\n",
       "      <td>markhamrd&amp;passmoreave</td>\n",
       "      <td>32497</td>\n",
       "      <td>markhamrd&amp;passmoreave</td>\n",
       "      <td>Minor-Single Level</td>\n",
       "      <td>{'type': 'MultiPoint', 'coordinates': [[-79.25...</td>\n",
       "      <td>43.830549</td>\n",
       "      <td>-79.250717</td>\n",
       "      <td>Markham Rd at Passmore Ave</td>\n",
       "      <td>-79.250916</td>\n",
       "      <td>43.830781</td>\n",
       "    </tr>\n",
       "    <tr>\n",
       "      <th>3</th>\n",
       "      <td>3</td>\n",
       "      <td>lawrence&amp;scarboroughgolfclubrd</td>\n",
       "      <td>lawrenceavee&amp;scarboroughgolfclubrd</td>\n",
       "      <td>32779</td>\n",
       "      <td>lawrenceavee&amp;scarboroughgolfclubrd</td>\n",
       "      <td>Minor-Single Level</td>\n",
       "      <td>{'type': 'MultiPoint', 'coordinates': [[-79.21...</td>\n",
       "      <td>43.761852</td>\n",
       "      <td>-79.215838</td>\n",
       "      <td>Scarborough Golf Club Rd at Lawrence Ave East</td>\n",
       "      <td>-79.215999</td>\n",
       "      <td>43.762027</td>\n",
       "    </tr>\n",
       "    <tr>\n",
       "      <th>4</th>\n",
       "      <td>4</td>\n",
       "      <td>danforthave&amp;victoriapark</td>\n",
       "      <td>danforthave&amp;victoriaparkave</td>\n",
       "      <td>13993</td>\n",
       "      <td>danforthave&amp;victoriaparkave</td>\n",
       "      <td>Major-Single Level</td>\n",
       "      <td>{'type': 'MultiPoint', 'coordinates': [[-79.28...</td>\n",
       "      <td>43.691232</td>\n",
       "      <td>-79.288359</td>\n",
       "      <td>Victoria Park Ave at Danforth Ave</td>\n",
       "      <td>-79.288525</td>\n",
       "      <td>43.691357</td>\n",
       "    </tr>\n",
       "  </tbody>\n",
       "</table>\n",
       "</div>"
      ],
      "text/plain": [
       "   Unnamed: 0_x                  fuzz_locations  \\\n",
       "0             0                 lawrence&warden   \n",
       "1             1          ellesmere&victoriapark   \n",
       "2             2                markham&passmore   \n",
       "3             3  lawrence&scarboroughgolfclubrd   \n",
       "4             4        danforthave&victoriapark   \n",
       "\n",
       "                               fuzzed  Unnamed: 0_y  \\\n",
       "0              lawrenceavee&wardenave         10975   \n",
       "1                         ellesmererd          8450   \n",
       "2               markhamrd&passmoreave         32497   \n",
       "3  lawrenceavee&scarboroughgolfclubrd         32779   \n",
       "4         danforthave&victoriaparkave         13993   \n",
       "\n",
       "                    INTERSECTION_DESC CLASSIFICATION_DESC  \\\n",
       "0              lawrenceavee&wardenave  Major-Single Level   \n",
       "1                         ellesmererd  Minor-Single Level   \n",
       "2               markhamrd&passmoreave  Minor-Single Level   \n",
       "3  lawrenceavee&scarboroughgolfclubrd  Minor-Single Level   \n",
       "4         danforthave&victoriaparkave  Major-Single Level   \n",
       "\n",
       "                                            geometry        lat        lon  \\\n",
       "0  {'type': 'MultiPoint', 'coordinates': [[-79.29...  43.745377 -79.294730   \n",
       "1  {'type': 'MultiPoint', 'coordinates': [[-79.27...  43.766165 -79.279371   \n",
       "2  {'type': 'MultiPoint', 'coordinates': [[-79.25...  43.830549 -79.250717   \n",
       "3  {'type': 'MultiPoint', 'coordinates': [[-79.21...  43.761852 -79.215838   \n",
       "4  {'type': 'MultiPoint', 'coordinates': [[-79.28...  43.691232 -79.288359   \n",
       "\n",
       "                                    closest_stop   stop_lon   stop_lat  \n",
       "0                Lawrence Ave East at Warden Ave -79.294565  43.745551  \n",
       "1      Ellesmere Rd at West Service Rd East Side -79.278977  43.766111  \n",
       "2                     Markham Rd at Passmore Ave -79.250916  43.830781  \n",
       "3  Scarborough Golf Club Rd at Lawrence Ave East -79.215999  43.762027  \n",
       "4              Victoria Park Ave at Danforth Ave -79.288525  43.691357  "
      ]
     },
     "execution_count": 54,
     "metadata": {},
     "output_type": "execute_result"
    }
   ],
   "source": [
    "fuzz.head()"
   ]
  },
  {
   "cell_type": "code",
   "execution_count": 55,
   "id": "ca4f9d64",
   "metadata": {},
   "outputs": [
    {
     "name": "stdout",
     "output_type": "stream",
     "text": [
      "<class 'pandas.core.frame.DataFrame'>\n",
      "RangeIndex: 34859 entries, 0 to 34858\n",
      "Data columns (total 12 columns):\n",
      " #   Column               Non-Null Count  Dtype  \n",
      "---  ------               --------------  -----  \n",
      " 0   Unnamed: 0_x         34859 non-null  int64  \n",
      " 1   fuzz_locations       34859 non-null  object \n",
      " 2   fuzzed               34859 non-null  object \n",
      " 3   Unnamed: 0_y         34859 non-null  int64  \n",
      " 4   INTERSECTION_DESC    34859 non-null  object \n",
      " 5   CLASSIFICATION_DESC  34859 non-null  object \n",
      " 6   geometry             34859 non-null  object \n",
      " 7   lat                  34859 non-null  float64\n",
      " 8   lon                  34859 non-null  float64\n",
      " 9   closest_stop         34859 non-null  object \n",
      " 10  stop_lon             34859 non-null  float64\n",
      " 11  stop_lat             34859 non-null  float64\n",
      "dtypes: float64(4), int64(2), object(6)\n",
      "memory usage: 3.2+ MB\n"
     ]
    }
   ],
   "source": [
    "fuzz.info()"
   ]
  },
  {
   "cell_type": "code",
   "execution_count": 58,
   "id": "02e96243",
   "metadata": {},
   "outputs": [],
   "source": [
    "geo_delays = pd.merge(delays,fuzz, left_on='copy', right_on='fuzz_locations', how='left')\n",
    "\n",
    "# Create the 'analysis' column and fill it with 'fuzz' if 'location' is not NaN, otherwise 'not fuzzed'\n",
    "geo_delays['analysis'] = geo_delays['fuzzed'].where(~geo_delays['fuzz_locations'].isna(), geo_delays['copy'])\n",
    "\n",
    "#columns_to_drop = ['fuzz_locations', 'fuzzed','copy']\n",
    "#bus_delays = bus_delays.drop(columns=columns_to_drop)"
   ]
  },
  {
   "cell_type": "code",
   "execution_count": 59,
   "id": "69ac20ed",
   "metadata": {},
   "outputs": [
    {
     "name": "stdout",
     "output_type": "stream",
     "text": [
      "<class 'pandas.core.frame.DataFrame'>\n",
      "RangeIndex: 588589 entries, 0 to 588588\n",
      "Data columns (total 23 columns):\n",
      " #   Column               Non-Null Count   Dtype  \n",
      "---  ------               --------------   -----  \n",
      " 0   Unnamed: 0           588589 non-null  int64  \n",
      " 1   Route                588511 non-null  object \n",
      " 2   Day                  588589 non-null  object \n",
      " 3   Location             587796 non-null  object \n",
      " 4   Incident             587654 non-null  object \n",
      " 5   Min Delay            551142 non-null  float64\n",
      " 6   Min Gap              556190 non-null  float64\n",
      " 7   Vehicle              518753 non-null  float64\n",
      " 8   DateTime             577298 non-null  object \n",
      " 9   copy                 587769 non-null  object \n",
      " 10  Unnamed: 0_x         198030 non-null  float64\n",
      " 11  fuzz_locations       198030 non-null  object \n",
      " 12  fuzzed               198030 non-null  object \n",
      " 13  Unnamed: 0_y         198030 non-null  float64\n",
      " 14  INTERSECTION_DESC    198030 non-null  object \n",
      " 15  CLASSIFICATION_DESC  198030 non-null  object \n",
      " 16  geometry             198030 non-null  object \n",
      " 17  lat                  198030 non-null  float64\n",
      " 18  lon                  198030 non-null  float64\n",
      " 19  closest_stop         198030 non-null  object \n",
      " 20  stop_lon             198030 non-null  float64\n",
      " 21  stop_lat             198030 non-null  float64\n",
      " 22  analysis             587769 non-null  object \n",
      "dtypes: float64(9), int64(1), object(13)\n",
      "memory usage: 103.3+ MB\n"
     ]
    }
   ],
   "source": [
    "geo_delays.info()"
   ]
  },
  {
   "cell_type": "code",
   "execution_count": null,
   "id": "e63b5124",
   "metadata": {},
   "outputs": [],
   "source": []
  }
 ],
 "metadata": {
  "kernelspec": {
   "display_name": "Python 3 (ipykernel)",
   "language": "python",
   "name": "python3"
  },
  "language_info": {
   "codemirror_mode": {
    "name": "ipython",
    "version": 3
   },
   "file_extension": ".py",
   "mimetype": "text/x-python",
   "name": "python",
   "nbconvert_exporter": "python",
   "pygments_lexer": "ipython3",
   "version": "3.11.5"
  }
 },
 "nbformat": 4,
 "nbformat_minor": 5
}
