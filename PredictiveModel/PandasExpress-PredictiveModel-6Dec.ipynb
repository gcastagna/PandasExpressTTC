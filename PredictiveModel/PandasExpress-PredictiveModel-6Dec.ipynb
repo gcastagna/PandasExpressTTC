{
 "cells": [
  {
   "cell_type": "markdown",
   "id": "0e201340",
   "metadata": {},
   "source": [
    "# Pandas Express\n",
    "# TTC-Delays project\n",
    "Team Members:\n",
    "\n",
    "Gaspare Castagna\n",
    "\n",
    "Amirhossein Heidari\n",
    "\n",
    "Avery Hoffer\n",
    "\n",
    "Michael Metallo"
   ]
  },
  {
   "cell_type": "markdown",
   "id": "5e856330",
   "metadata": {},
   "source": [
    "# The purpose of this notebook is generate a prediction model for delay categories based on selected features."
   ]
  },
  {
   "cell_type": "code",
   "execution_count": 1,
   "id": "6a77e3c8",
   "metadata": {},
   "outputs": [],
   "source": [
    "import numpy as np\n",
    "import pandas as pd\n",
    "import seaborn as sns\n",
    "import matplotlib.pylab as plt\n",
    "import glob\n",
    "\n",
    "from sklearn import preprocessing\n",
    "from sklearn.decomposition import PCA\n",
    "\n",
    "from sklearn.model_selection import train_test_split, KFold, cross_val_score\n",
    "from sklearn.metrics import f1_score, make_scorer, precision_score, recall_score, f1_score, confusion_matrix\n",
    "\n",
    "from sklearn.ensemble import RandomForestClassifier\n",
    "from sklearn.linear_model import LogisticRegression\n",
    "from sklearn.tree import DecisionTreeClassifier\n",
    "from sklearn.model_selection import RandomizedSearchCV"
   ]
  },
  {
   "cell_type": "markdown",
   "id": "6c5b99de",
   "metadata": {},
   "source": [
    "Truncate the analysis files to include only 2022 data."
   ]
  },
  {
   "cell_type": "code",
   "execution_count": 2,
   "id": "8b0fdcce",
   "metadata": {},
   "outputs": [],
   "source": [
    "\n",
    "# Set display options to show all columns without truncation\n",
    "pd.set_option('display.max_columns', None)\n",
    "\n",
    "# Assuming your CSV files are in the same directory as your script\n",
    "files = glob.glob('analysis_data_*.csv')\n",
    "\n",
    "# Initialize an empty list to store DataFrames\n",
    "dfs = []\n",
    "\n",
    "# Iterate through each file\n",
    "for file in files:\n",
    "    # Read the CSV file with low_memory=False option\n",
    "    df = pd.read_csv(file, low_memory=False)\n",
    "    \n",
    "    # Filter rows where UTC_YEAR is 2022\n",
    "    df_2022 = df[df['LOCAL_YEAR'] == 2022]\n",
    "    \n",
    "    # Append the filtered data to the list\n",
    "    dfs.append(df_2022)\n",
    "\n",
    "# Concatenate all DataFrames in the list\n",
    "combined_data = pd.concat(dfs, ignore_index=True)\n",
    "\n",
    "# Now, combined_data contains rows from all CSV files where UTC_YEAR is 2022\n",
    "#Keep in mind that using low_memory=False might increase memory usage, and it's "
   ]
  },
  {
   "cell_type": "code",
   "execution_count": 3,
   "id": "973b3052",
   "metadata": {},
   "outputs": [
    {
     "data": {
      "text/html": [
       "<div>\n",
       "<style scoped>\n",
       "    .dataframe tbody tr th:only-of-type {\n",
       "        vertical-align: middle;\n",
       "    }\n",
       "\n",
       "    .dataframe tbody tr th {\n",
       "        vertical-align: top;\n",
       "    }\n",
       "\n",
       "    .dataframe thead th {\n",
       "        text-align: right;\n",
       "    }\n",
       "</style>\n",
       "<table border=\"1\" class=\"dataframe\">\n",
       "  <thead>\n",
       "    <tr style=\"text-align: right;\">\n",
       "      <th></th>\n",
       "      <th>Route</th>\n",
       "      <th>Day</th>\n",
       "      <th>Location</th>\n",
       "      <th>Incident</th>\n",
       "      <th>Min Delay</th>\n",
       "      <th>Min Gap</th>\n",
       "      <th>Vehicle</th>\n",
       "      <th>DateTime</th>\n",
       "      <th>analysis</th>\n",
       "      <th>temp</th>\n",
       "      <th>Unnamed: 0</th>\n",
       "      <th>LOCAL_HOUR</th>\n",
       "      <th>WIND_DIRECTION</th>\n",
       "      <th>WINDCHILL</th>\n",
       "      <th>PRECIP_AMOUNT</th>\n",
       "      <th>HUMIDEX</th>\n",
       "      <th>RELATIVE_HUMIDITY</th>\n",
       "      <th>LOCAL_YEAR</th>\n",
       "      <th>TEMP_FLAG</th>\n",
       "      <th>UTC_MONTH</th>\n",
       "      <th>UTC_DAY</th>\n",
       "      <th>LOCAL_DATE</th>\n",
       "      <th>STATION_PRESSURE</th>\n",
       "      <th>TEMP</th>\n",
       "      <th>UTC_YEAR</th>\n",
       "      <th>WIND_SPEED</th>\n",
       "      <th>LOCAL_DAY</th>\n",
       "      <th>DEW_POINT_TEMP</th>\n",
       "      <th>LOCAL_MONTH</th>\n",
       "      <th>UTC_DATE</th>\n",
       "      <th>VISIBILITY</th>\n",
       "      <th>weather</th>\n",
       "    </tr>\n",
       "  </thead>\n",
       "  <tbody>\n",
       "    <tr>\n",
       "      <th>0</th>\n",
       "      <td>952</td>\n",
       "      <td>Tuesday</td>\n",
       "      <td>TERNMINAL 1</td>\n",
       "      <td>Operations - Operator</td>\n",
       "      <td>9.0</td>\n",
       "      <td>0.0</td>\n",
       "      <td>0.0</td>\n",
       "      <td>2022-01-04 06:02:00</td>\n",
       "      <td>ternminal1</td>\n",
       "      <td>2022-01-04 06:00:00</td>\n",
       "      <td>25579</td>\n",
       "      <td>6</td>\n",
       "      <td>27.0</td>\n",
       "      <td>-11.0</td>\n",
       "      <td>0.0</td>\n",
       "      <td>NaN</td>\n",
       "      <td>73.0</td>\n",
       "      <td>2022</td>\n",
       "      <td>NaN</td>\n",
       "      <td>1</td>\n",
       "      <td>4</td>\n",
       "      <td>2022-01-04 06:00:00</td>\n",
       "      <td>101.48</td>\n",
       "      <td>-4.2</td>\n",
       "      <td>2022</td>\n",
       "      <td>21.0</td>\n",
       "      <td>4</td>\n",
       "      <td>-8.3</td>\n",
       "      <td>1</td>\n",
       "      <td>2022-01-04T11:00:00</td>\n",
       "      <td>16.1</td>\n",
       "      <td>snow</td>\n",
       "    </tr>\n",
       "    <tr>\n",
       "      <th>1</th>\n",
       "      <td>953</td>\n",
       "      <td>Tuesday</td>\n",
       "      <td>MORNINGVIEW AND FINCH</td>\n",
       "      <td>Operations - Operator</td>\n",
       "      <td>14.0</td>\n",
       "      <td>28.0</td>\n",
       "      <td>0.0</td>\n",
       "      <td>2022-01-04 05:43:00</td>\n",
       "      <td>Morningview Trail at Old Finch Ave South Side</td>\n",
       "      <td>2022-01-04 06:00:00</td>\n",
       "      <td>25579</td>\n",
       "      <td>6</td>\n",
       "      <td>27.0</td>\n",
       "      <td>-11.0</td>\n",
       "      <td>0.0</td>\n",
       "      <td>NaN</td>\n",
       "      <td>73.0</td>\n",
       "      <td>2022</td>\n",
       "      <td>NaN</td>\n",
       "      <td>1</td>\n",
       "      <td>4</td>\n",
       "      <td>2022-01-04 06:00:00</td>\n",
       "      <td>101.48</td>\n",
       "      <td>-4.2</td>\n",
       "      <td>2022</td>\n",
       "      <td>21.0</td>\n",
       "      <td>4</td>\n",
       "      <td>-8.3</td>\n",
       "      <td>1</td>\n",
       "      <td>2022-01-04T11:00:00</td>\n",
       "      <td>16.1</td>\n",
       "      <td>snow</td>\n",
       "    </tr>\n",
       "    <tr>\n",
       "      <th>2</th>\n",
       "      <td>39</td>\n",
       "      <td>Tuesday</td>\n",
       "      <td>OLD FINCH AND LITTLES</td>\n",
       "      <td>Operations - Operator</td>\n",
       "      <td>10.0</td>\n",
       "      <td>25.0</td>\n",
       "      <td>0.0</td>\n",
       "      <td>2022-01-04 06:00:00</td>\n",
       "      <td>Finch Ave West at Goldfinch Crt East Side</td>\n",
       "      <td>2022-01-04 06:00:00</td>\n",
       "      <td>25579</td>\n",
       "      <td>6</td>\n",
       "      <td>27.0</td>\n",
       "      <td>-11.0</td>\n",
       "      <td>0.0</td>\n",
       "      <td>NaN</td>\n",
       "      <td>73.0</td>\n",
       "      <td>2022</td>\n",
       "      <td>NaN</td>\n",
       "      <td>1</td>\n",
       "      <td>4</td>\n",
       "      <td>2022-01-04 06:00:00</td>\n",
       "      <td>101.48</td>\n",
       "      <td>-4.2</td>\n",
       "      <td>2022</td>\n",
       "      <td>21.0</td>\n",
       "      <td>4</td>\n",
       "      <td>-8.3</td>\n",
       "      <td>1</td>\n",
       "      <td>2022-01-04T11:00:00</td>\n",
       "      <td>16.1</td>\n",
       "      <td>snow</td>\n",
       "    </tr>\n",
       "    <tr>\n",
       "      <th>3</th>\n",
       "      <td>97</td>\n",
       "      <td>Tuesday</td>\n",
       "      <td>QUEEN'S WUAY AND YONGE</td>\n",
       "      <td>Operations - Operator</td>\n",
       "      <td>15.0</td>\n",
       "      <td>15.0</td>\n",
       "      <td>8132.0</td>\n",
       "      <td>2022-01-04 05:32:00</td>\n",
       "      <td>The Queensway at Roncesvalles Ave</td>\n",
       "      <td>2022-01-04 06:00:00</td>\n",
       "      <td>25579</td>\n",
       "      <td>6</td>\n",
       "      <td>27.0</td>\n",
       "      <td>-11.0</td>\n",
       "      <td>0.0</td>\n",
       "      <td>NaN</td>\n",
       "      <td>73.0</td>\n",
       "      <td>2022</td>\n",
       "      <td>NaN</td>\n",
       "      <td>1</td>\n",
       "      <td>4</td>\n",
       "      <td>2022-01-04 06:00:00</td>\n",
       "      <td>101.48</td>\n",
       "      <td>-4.2</td>\n",
       "      <td>2022</td>\n",
       "      <td>21.0</td>\n",
       "      <td>4</td>\n",
       "      <td>-8.3</td>\n",
       "      <td>1</td>\n",
       "      <td>2022-01-04T11:00:00</td>\n",
       "      <td>16.1</td>\n",
       "      <td>snow</td>\n",
       "    </tr>\n",
       "    <tr>\n",
       "      <th>4</th>\n",
       "      <td>60</td>\n",
       "      <td>Tuesday</td>\n",
       "      <td>PIONEER VILLAGE STATIO</td>\n",
       "      <td>Operations - Operator</td>\n",
       "      <td>15.0</td>\n",
       "      <td>30.0</td>\n",
       "      <td>8171.0</td>\n",
       "      <td>2022-01-04 05:44:00</td>\n",
       "      <td>pioneervillagestatio</td>\n",
       "      <td>2022-01-04 06:00:00</td>\n",
       "      <td>25579</td>\n",
       "      <td>6</td>\n",
       "      <td>27.0</td>\n",
       "      <td>-11.0</td>\n",
       "      <td>0.0</td>\n",
       "      <td>NaN</td>\n",
       "      <td>73.0</td>\n",
       "      <td>2022</td>\n",
       "      <td>NaN</td>\n",
       "      <td>1</td>\n",
       "      <td>4</td>\n",
       "      <td>2022-01-04 06:00:00</td>\n",
       "      <td>101.48</td>\n",
       "      <td>-4.2</td>\n",
       "      <td>2022</td>\n",
       "      <td>21.0</td>\n",
       "      <td>4</td>\n",
       "      <td>-8.3</td>\n",
       "      <td>1</td>\n",
       "      <td>2022-01-04T11:00:00</td>\n",
       "      <td>16.1</td>\n",
       "      <td>snow</td>\n",
       "    </tr>\n",
       "  </tbody>\n",
       "</table>\n",
       "</div>"
      ],
      "text/plain": [
       "  Route      Day                Location               Incident  Min Delay  \\\n",
       "0   952  Tuesday             TERNMINAL 1  Operations - Operator        9.0   \n",
       "1   953  Tuesday   MORNINGVIEW AND FINCH  Operations - Operator       14.0   \n",
       "2    39  Tuesday   OLD FINCH AND LITTLES  Operations - Operator       10.0   \n",
       "3    97  Tuesday  QUEEN'S WUAY AND YONGE  Operations - Operator       15.0   \n",
       "4    60  Tuesday  PIONEER VILLAGE STATIO  Operations - Operator       15.0   \n",
       "\n",
       "   Min Gap  Vehicle             DateTime  \\\n",
       "0      0.0      0.0  2022-01-04 06:02:00   \n",
       "1     28.0      0.0  2022-01-04 05:43:00   \n",
       "2     25.0      0.0  2022-01-04 06:00:00   \n",
       "3     15.0   8132.0  2022-01-04 05:32:00   \n",
       "4     30.0   8171.0  2022-01-04 05:44:00   \n",
       "\n",
       "                                        analysis                 temp  \\\n",
       "0                                     ternminal1  2022-01-04 06:00:00   \n",
       "1  Morningview Trail at Old Finch Ave South Side  2022-01-04 06:00:00   \n",
       "2      Finch Ave West at Goldfinch Crt East Side  2022-01-04 06:00:00   \n",
       "3              The Queensway at Roncesvalles Ave  2022-01-04 06:00:00   \n",
       "4                           pioneervillagestatio  2022-01-04 06:00:00   \n",
       "\n",
       "   Unnamed: 0  LOCAL_HOUR  WIND_DIRECTION  WINDCHILL  PRECIP_AMOUNT  HUMIDEX  \\\n",
       "0       25579           6            27.0      -11.0            0.0      NaN   \n",
       "1       25579           6            27.0      -11.0            0.0      NaN   \n",
       "2       25579           6            27.0      -11.0            0.0      NaN   \n",
       "3       25579           6            27.0      -11.0            0.0      NaN   \n",
       "4       25579           6            27.0      -11.0            0.0      NaN   \n",
       "\n",
       "   RELATIVE_HUMIDITY  LOCAL_YEAR TEMP_FLAG  UTC_MONTH  UTC_DAY  \\\n",
       "0               73.0        2022       NaN          1        4   \n",
       "1               73.0        2022       NaN          1        4   \n",
       "2               73.0        2022       NaN          1        4   \n",
       "3               73.0        2022       NaN          1        4   \n",
       "4               73.0        2022       NaN          1        4   \n",
       "\n",
       "            LOCAL_DATE  STATION_PRESSURE  TEMP  UTC_YEAR  WIND_SPEED  \\\n",
       "0  2022-01-04 06:00:00            101.48  -4.2      2022        21.0   \n",
       "1  2022-01-04 06:00:00            101.48  -4.2      2022        21.0   \n",
       "2  2022-01-04 06:00:00            101.48  -4.2      2022        21.0   \n",
       "3  2022-01-04 06:00:00            101.48  -4.2      2022        21.0   \n",
       "4  2022-01-04 06:00:00            101.48  -4.2      2022        21.0   \n",
       "\n",
       "   LOCAL_DAY  DEW_POINT_TEMP  LOCAL_MONTH             UTC_DATE  VISIBILITY  \\\n",
       "0          4            -8.3            1  2022-01-04T11:00:00        16.1   \n",
       "1          4            -8.3            1  2022-01-04T11:00:00        16.1   \n",
       "2          4            -8.3            1  2022-01-04T11:00:00        16.1   \n",
       "3          4            -8.3            1  2022-01-04T11:00:00        16.1   \n",
       "4          4            -8.3            1  2022-01-04T11:00:00        16.1   \n",
       "\n",
       "  weather  \n",
       "0    snow  \n",
       "1    snow  \n",
       "2    snow  \n",
       "3    snow  \n",
       "4    snow  "
      ]
     },
     "execution_count": 3,
     "metadata": {},
     "output_type": "execute_result"
    }
   ],
   "source": [
    "combined_data.head()"
   ]
  },
  {
   "cell_type": "markdown",
   "id": "262865dc",
   "metadata": {},
   "source": [
    "# Additional Feature Creation \n",
    "Create additional feature categories for weather and holiday. These categories provide basic information on weather conditions and whether or not a date is a statuatoy holiday. "
   ]
  },
  {
   "cell_type": "code",
   "execution_count": 4,
   "id": "8a41fb48",
   "metadata": {},
   "outputs": [],
   "source": [
    "# Define the conditions and corresponding values for the 'weather' column\n",
    "conditions = [\n",
    "    (combined_data['TEMP'] >= 0) & (combined_data['PRECIP_AMOUNT'] > 0),\n",
    "    (combined_data['TEMP'] < 0) & (combined_data['PRECIP_AMOUNT'] > 0),\n",
    "    (combined_data['PRECIP_AMOUNT'] == 0),\n",
    "    (combined_data['TEMP'].isna()) | (combined_data['PRECIP_AMOUNT'].isna())\n",
    "]\n",
    "\n",
    "values = ['rain', 'snow', 'dry', 'unknown']\n",
    "\n",
    "# Use numpy's select function to apply the conditions and update the 'weather' column\n",
    "combined_data['weather'] = np.select(conditions, values, default=combined_data['weather'])"
   ]
  },
  {
   "cell_type": "code",
   "execution_count": 5,
   "id": "84f32ab7",
   "metadata": {},
   "outputs": [],
   "source": [
    "# Convert 'LOCAL_DATE' column to datetime type\n",
    "combined_data['LOCAL_DATE'] = pd.to_datetime(combined_data['LOCAL_DATE'])\n",
    "\n",
    "# Define a function to check if a date is a holiday\n",
    "def is_holiday(date):\n",
    "    holidays = [\n",
    "        '2022-01-01', '2022-02-21', '2022-04-15', '2022-04-18',\n",
    "        '2022-05-23', '2022-07-01', '2022-08-01', '2022-09-05',\n",
    "        '2022-10-10', '2022-11-11', '2022-12-25', '2022-12-26'\n",
    "    ]\n",
    "    return 1 if date.strftime('%Y-%m-%d') in holidays else 0\n",
    "\n",
    "# Create a new column 'is_holiday'\n",
    "combined_data['HOLIDAY'] = combined_data['LOCAL_DATE'].apply(is_holiday)"
   ]
  },
  {
   "cell_type": "markdown",
   "id": "70e84f70",
   "metadata": {},
   "source": [
    "# Feature Encoding\n",
    "Create a function that encodes a giving feature. Each unique value is assigned a corresponding unique integer. This encoding will alow RandomForest to properly create a model."
   ]
  },
  {
   "cell_type": "code",
   "execution_count": 6,
   "id": "d15aa1ae",
   "metadata": {},
   "outputs": [],
   "source": [
    "from sklearn.preprocessing import LabelEncoder\n",
    "def encode_column_to_numbers(dataframe, column_name):\n",
    "    \"\"\"\n",
    "    Encode a column in a DataFrame to a single set of integer values.\n",
    "\n",
    "    Parameters:\n",
    "    - dataframe: pandas DataFrame\n",
    "    - column_name: str, the name of the column to be encoded\n",
    "\n",
    "    Returns:\n",
    "    - dataframe: pandas DataFrame, the input DataFrame with an additional column containing encoded values\n",
    "    \"\"\"\n",
    "    # Make a copy of the DataFrame to avoid modifying the original\n",
    "    df = dataframe.copy()\n",
    "\n",
    "    # Convert all values in the specified column to strings\n",
    "    df[column_name] = df[column_name].astype(str)\n",
    "\n",
    "    # Create a LabelEncoder instance\n",
    "    label_encoder = LabelEncoder()\n",
    "\n",
    "    # Fit and transform the specified column to integer labels\n",
    "    df[f'{column_name}_Encoded'] = label_encoder.fit_transform(df[column_name])\n",
    "\n",
    "    # Display the mapping of original values to encoded integers\n",
    "    mapping = dict(zip(label_encoder.classes_, label_encoder.transform(label_encoder.classes_)))\n",
    "\n",
    "    # Return the DataFrame, encoded column, and mapping\n",
    "    return df[f'{column_name}_Encoded']"
   ]
  },
  {
   "cell_type": "markdown",
   "id": "cb39feaa",
   "metadata": {},
   "source": [
    "The delays, what are being predicted, will be categorized into short, medium, long, and crippling delays. This categorization is to create a more valuable model than simply providing the expected delay time."
   ]
  },
  {
   "cell_type": "code",
   "execution_count": 7,
   "id": "8c2665e5",
   "metadata": {},
   "outputs": [],
   "source": [
    "# Create category for the delays\n",
    "# Define the bin edges for delay categories\n",
    "bins = [-float('inf'), 5, 15, 30, 90, float('inf')]\n",
    "\n",
    "# Define the corresponding labels for each category\n",
    "labels = ['Short Delays', 'Medium Delays', 'Long Delays', 'Crippling Delays', 'Outliers']\n",
    "\n",
    "# Create a new column 'Delay Category' based on the delay times\n",
    "combined_data['Delay_Category'] = pd.cut(combined_data['Min Delay'], bins=bins, labels=labels, right=False)\n",
    "#Drop Dataframe rows with Outliers\n",
    "combined_data = combined_data[combined_data.ne('Outliers').all(axis=1)]\n",
    "# Encode Delay Category\n",
    "combined_data['DELAY_CATEGORY'] = encode_column_to_numbers(combined_data, 'Delay_Category')"
   ]
  },
  {
   "cell_type": "code",
   "execution_count": 8,
   "id": "7358f689",
   "metadata": {},
   "outputs": [
    {
     "name": "stdout",
     "output_type": "stream",
     "text": [
      "Index(['Route', 'Day', 'Location', 'Incident', 'Min Delay', 'Min Gap',\n",
      "       'Vehicle', 'DateTime', 'analysis', 'temp', 'Unnamed: 0', 'LOCAL_HOUR',\n",
      "       'WIND_DIRECTION', 'WINDCHILL', 'PRECIP_AMOUNT', 'HUMIDEX',\n",
      "       'RELATIVE_HUMIDITY', 'LOCAL_YEAR', 'TEMP_FLAG', 'UTC_MONTH', 'UTC_DAY',\n",
      "       'LOCAL_DATE', 'STATION_PRESSURE', 'TEMP', 'UTC_YEAR', 'WIND_SPEED',\n",
      "       'LOCAL_DAY', 'DEW_POINT_TEMP', 'LOCAL_MONTH', 'UTC_DATE', 'VISIBILITY',\n",
      "       'weather', 'HOLIDAY', 'Delay_Category', 'DELAY_CATEGORY'],\n",
      "      dtype='object')\n"
     ]
    }
   ],
   "source": [
    "# Print column headers to view all potential feature categories\n",
    "print(combined_data.columns)\n",
    "# Write the DataFrame to a CSV file to view all information\n",
    "# Specify the file path where you want to save the CSV file\n",
    "file_path = '2022_Random_Forest_Data.csv'\n",
    "combined_data.to_csv(file_path, index=False)"
   ]
  },
  {
   "cell_type": "markdown",
   "id": "7cb9d401",
   "metadata": {},
   "source": [
    "Visual showing the encoding process."
   ]
  },
  {
   "cell_type": "code",
   "execution_count": 9,
   "id": "8a0737d4",
   "metadata": {},
   "outputs": [
    {
     "data": {
      "image/png": "[encoded data removed]",
      "text/plain": [
       "<Figure size 1008x432 with 2 Axes>"
      ]
     },
     "metadata": {
      "needs_background": "light"
     },
     "output_type": "display_data"
    }
   ],
   "source": [
    "# Choose the column you want to visualize\n",
    "column_name = 'weather'\n",
    "\n",
    "# Get the counts of unique values in the specified column\n",
    "value_counts = combined_data[column_name].value_counts()\n",
    "\n",
    "# Assign different colors to each bar\n",
    "colors = ['orange', 'skyblue', 'gray', 'red']\n",
    "# Create a bar chart with different colors\n",
    "plt.figure(figsize=(14, 6))\n",
    "# Original graph\n",
    "plt.subplot(1, 2, 1)\n",
    "value_counts.plot(kind='bar', color=colors)\n",
    "plt.xlabel('Weather Condition')\n",
    "plt.ylabel('Count')\n",
    "plt.title('Ocurrences of each Weather Condition')\n",
    "plt.xticks(rotation='horizontal')\n",
    "# Second graph with custom x-axis labels\n",
    "plt.subplot(1, 2, 2)\n",
    "value_counts.plot(kind='bar', color=colors)\n",
    "plt.xlabel('Encoded Weather Condition')\n",
    "plt.ylabel('Count')\n",
    "plt.title('Ocurrences of each Weather Condition')\n",
    "plt.xticks([0, 1, 2, 3], [0, 1, 2, 12345],rotation='horizontal')  # Set custom x-axis ticks and labels\n",
    "\n",
    "plt.show()"
   ]
  },
  {
   "cell_type": "markdown",
   "id": "c86813eb",
   "metadata": {},
   "source": [
    "# Initial Feature Selection\n",
    "Initial features were selected. Every applicable feature was used to generate the initial model (besides duplicate features such as UTC_HOUR and LOCAL_HOUR). Day, Incident, weather, Route, Location, and Vehicle were encoded using the encoding function above."
   ]
  },
  {
   "cell_type": "code",
   "execution_count": 10,
   "id": "d6adb2fc",
   "metadata": {},
   "outputs": [
    {
     "name": "stdout",
     "output_type": "stream",
     "text": [
      "X_train shape: (45463, 19)\n",
      "X_test shape: (11366, 19)\n",
      "y_train shape: (45463,)\n",
      "y_test shape: (11366,)\n"
     ]
    }
   ],
   "source": [
    "def feature_engineering(data):\n",
    "    '''Return features based on data \n",
    "    '''\n",
    "    data_copy=data.copy()\n",
    "    # Map Days,Incidents, Weather, Route, Location, and Vehicle\n",
    "    \n",
    "    data_copy['WEEKDAY'] = encode_column_to_numbers(data_copy, 'Day')\n",
    "    data_copy['INCIDENT_TYPE'] = encode_column_to_numbers(data_copy, 'Incident')\n",
    "    data_copy['WEATHER'] = encode_column_to_numbers(data_copy, 'weather')\n",
    "    data_copy['ROUTE'] = encode_column_to_numbers(data_copy, 'Route')\n",
    "    data_copy['LOCATION'] = encode_column_to_numbers(data_copy, 'Location')\n",
    "    data_copy['VEHICLE'] = encode_column_to_numbers(data_copy, 'Vehicle')\n",
    "    feature_selected= ['ROUTE','VEHICLE','LOCATION','INCIDENT_TYPE','STATION_PRESSURE','TEMP','DEW_POINT_TEMP',\n",
    "                       'LOCAL_HOUR','RELATIVE_HUMIDITY','WIND_SPEED', 'WIND_DIRECTION','WEEKDAY','LOCAL_MONTH',\n",
    "                       'WINDCHILL','HUMIDEX','VISIBILITY','PRECIP_AMOUNT','WEATHER','HOLIDAY']\n",
    "    # Assign to new DF\n",
    "    data_copy = data_copy[feature_selected]\n",
    "    # Impute missing values (for example, filling with the mean)\n",
    "    data_copy = data_copy.fillna(12345)\n",
    "    return data_copy[feature_selected]\n",
    "\n",
    "X = feature_engineering(combined_data)\n",
    "#Create a separate X2 for the correlation matrix at the end\n",
    "X2 = X\n",
    "# Labels\n",
    "y = combined_data[\"DELAY_CATEGORY\"]\n",
    "\n",
    "# Split into train and val\n",
    "X_train, X_val, y_train, y_val = train_test_split(X, y, train_size=0.8, random_state=42)\n",
    "# Print the shape of the training and testing sets\n",
    "print(f\"X_train shape: {X_train.shape}\")\n",
    "print(f\"X_test shape: {X_val.shape}\")\n",
    "print(f\"y_train shape: {y_train.shape}\")\n",
    "print(f\"y_test shape: {y_val.shape}\")"
   ]
  },
  {
   "cell_type": "markdown",
   "id": "8b343518",
   "metadata": {},
   "source": [
    "Visual of the missing data in each feature. "
   ]
  },
  {
   "cell_type": "code",
   "execution_count": 11,
   "id": "33cbee99",
   "metadata": {},
   "outputs": [
    {
     "data": {
      "image/png": "[encoded data removed]",
      "text/plain": [
       "<Figure size 720x432 with 1 Axes>"
      ]
     },
     "metadata": {
      "needs_background": "light"
     },
     "output_type": "display_data"
    }
   ],
   "source": [
    "# Count the occurrences of 12345 in each column\n",
    "count_12345_per_column = (X == 12345).sum()\n",
    "\n",
    "# Create a bar chart\n",
    "plt.figure(figsize=(10, 6))\n",
    "count_12345_per_column.plot(kind='bar', color='skyblue')\n",
    "plt.title('Missing Data Occurrences in Each Feature')\n",
    "plt.xlabel('Feature')\n",
    "plt.ylabel('Count')\n",
    "plt.xticks(rotation=45, ha='right')\n",
    "plt.show()"
   ]
  },
  {
   "cell_type": "markdown",
   "id": "4e68db7c",
   "metadata": {},
   "source": [
    "# Model Creation\n",
    "A RandomForestClassifier model was used and F1 score was determined, as well as other metrics such as precision, recall, and false alarm rate."
   ]
  },
  {
   "cell_type": "code",
   "execution_count": 12,
   "id": "94dcec20",
   "metadata": {},
   "outputs": [],
   "source": [
    "# Instantiate a classifier model\n",
    "model = RandomForestClassifier()"
   ]
  },
  {
   "cell_type": "code",
   "execution_count": 13,
   "id": "71f1d875",
   "metadata": {},
   "outputs": [
    {
     "data": {
      "text/plain": [
       "RandomForestClassifier()"
      ]
     },
     "execution_count": 13,
     "metadata": {},
     "output_type": "execute_result"
    }
   ],
   "source": [
    "# Fit and predict\n",
    "model.fit(X_train, y_train)"
   ]
  },
  {
   "cell_type": "code",
   "execution_count": 14,
   "id": "7d388670",
   "metadata": {},
   "outputs": [],
   "source": [
    "y_pred = model.predict(X_val)"
   ]
  },
  {
   "cell_type": "code",
   "execution_count": 15,
   "id": "29458fc4",
   "metadata": {},
   "outputs": [
    {
     "name": "stdout",
     "output_type": "stream",
     "text": [
      "0.6792455600343938\n"
     ]
    }
   ],
   "source": [
    "print(f1_score(y_val, y_pred, average='weighted'))"
   ]
  },
  {
   "cell_type": "code",
   "execution_count": 16,
   "id": "60c00797",
   "metadata": {},
   "outputs": [
    {
     "name": "stdout",
     "output_type": "stream",
     "text": [
      "Precision: 0.6894146289533251\n",
      "Recall: 0.7015660742565546\n",
      "F1 Score: 0.6792455600343938\n",
      "False Alarm Rate: 0.31058537104667494\n"
     ]
    }
   ],
   "source": [
    "# Calculate precision, recall, and false alarm rate\n",
    "precision = precision_score(y_val, y_pred, average='weighted')\n",
    "recall = recall_score(y_val, y_pred, average='weighted')\n",
    "f1 = f1_score(y_val, y_pred, average='weighted')\n",
    "\n",
    "# False Alarm Rate (FAR) = 1 - Precision\n",
    "far = 1 - precision\n",
    "\n",
    "# Print the metrics\n",
    "print(\"Precision:\", precision)\n",
    "print(\"Recall:\", recall)\n",
    "print(\"F1 Score:\", f1)\n",
    "print(\"False Alarm Rate:\", far)"
   ]
  },
  {
   "cell_type": "markdown",
   "id": "090c5394",
   "metadata": {},
   "source": [
    "# Feature Importance\n",
    "Visual showing the importance of each feature in contribution to the initial model."
   ]
  },
  {
   "cell_type": "code",
   "execution_count": 17,
   "id": "4f6a4b24",
   "metadata": {},
   "outputs": [
    {
     "data": {
      "image/png": "[encoded data removed]",
      "text/plain": [
       "<Figure size 864x576 with 2 Axes>"
      ]
     },
     "metadata": {
      "needs_background": "light"
     },
     "output_type": "display_data"
    }
   ],
   "source": [
    "# Get feature importances from the trained model\n",
    "feature_importances = pd.Series(model.feature_importances_, index=X_train.columns)\n",
    "# Sort feature importances in descending order\n",
    "feature_importances = feature_importances.sort_values(ascending=False)\n",
    "\n",
    "# Create a heatmap using seaborn\n",
    "plt.figure(figsize=(12, 8))\n",
    "sns.heatmap(pd.DataFrame(feature_importances), annot=True, cmap='viridis', fmt='.3f', linewidths=.5)\n",
    "plt.title('RandomForest Feature Importances')\n",
    "plt.show()"
   ]
  },
  {
   "cell_type": "markdown",
   "id": "4c3ff992",
   "metadata": {},
   "source": [
    "# Revised Feature Selection & Model Creation\n",
    "Low correlation (PRECIP_AMOUNT, WEATHER, and HOLIDAY) features were removed. Features STATION_PRESSURE, DEW_POINT_TEMP, and RELATIVE_HUMIDITY were assumed to be represented in the TEMP feature. Features of WIND_DIRECTION, WINDCHILL, HUMIDEX, and WIND_SPEED were assumed to be not important."
   ]
  },
  {
   "cell_type": "code",
   "execution_count": 18,
   "id": "75955b68",
   "metadata": {},
   "outputs": [
    {
     "name": "stdout",
     "output_type": "stream",
     "text": [
      "0.7353182248474197\n"
     ]
    }
   ],
   "source": [
    "def feature_engineering(data):\n",
    "    '''Return features based on data \n",
    "    '''\n",
    "    data_copy=data.copy()\n",
    "    # Map Days,Incidents, Weather, Route, Location, and Vehicle\n",
    "    \n",
    "    data_copy['WEEKDAY'] = encode_column_to_numbers(data_copy, 'Day')\n",
    "    data_copy['INCIDENT_TYPE'] = encode_column_to_numbers(data_copy, 'Incident')\n",
    "    data_copy['WEATHER'] = encode_column_to_numbers(data_copy, 'weather')\n",
    "    data_copy['ROUTE'] = encode_column_to_numbers(data_copy, 'Route')\n",
    "    data_copy['LOCATION'] = encode_column_to_numbers(data_copy, 'Location')\n",
    "    data_copy['VEHICLE'] = encode_column_to_numbers(data_copy, 'Vehicle')\n",
    "    feature_selected= ['ROUTE','VEHICLE','LOCATION','INCIDENT_TYPE','TEMP',\n",
    "                       'LOCAL_HOUR','WEEKDAY','LOCAL_MONTH','VISIBILITY']\n",
    "    # Assign to new DF\n",
    "    data_copy = data_copy[feature_selected]\n",
    "    # Impute missing values (for example, filling with the mean)\n",
    "    data_copy = data_copy.fillna(12345)\n",
    "    return data_copy[feature_selected]\n",
    "\n",
    "#df_10000=combined_data.sample(n=10000, random_state=42)\n",
    "\n",
    "X = feature_engineering(combined_data)\n",
    "\n",
    "# Labels\n",
    "y = combined_data[\"DELAY_CATEGORY\"]\n",
    "\n",
    "# Split into train and val\n",
    "X_train, X_val, y_train, y_val = train_test_split(X, y, train_size=0.8, random_state=42)\n",
    "\n",
    "\n",
    "# Instantiate a classifier model\n",
    "model = RandomForestClassifier()\n",
    "# Fit and predict\n",
    "model.fit(X_train, y_train)\n",
    "y_pred = model.predict(X_val)\n",
    "print(f1_score(y_val, y_pred, average='weighted'))\n",
    "# ['ROUTE,'VEHICLE','LOCATION',INCIDENT_TYPE','STATION_PRESSURE','TEMP','DEW_POINT_TEMP','LOCAL_HOUR','RELATIVE_HUMIDITY','WIND_SPEED',\n",
    "#       'WIND_DIRECTION','WEEKDAY','LOCAL_MONTH','WINDCHILL','HUMIDEX','VISIBILITY','PRECIP_AMOUNT','WEATHER','HOLIDAY']"
   ]
  },
  {
   "cell_type": "markdown",
   "id": "494bb88a",
   "metadata": {},
   "source": [
    "Verify feature selection by ensuring removing any of the selected features decreases F1 score. Dictionary with the corresponding F1 change for each feature below."
   ]
  },
  {
   "cell_type": "code",
   "execution_count": 19,
   "id": "49e08999",
   "metadata": {},
   "outputs": [
    {
     "data": {
      "image/png": "[encoded data removed]",
      "text/plain": [
       "<Figure size 432x432 with 1 Axes>"
      ]
     },
     "metadata": {
      "needs_background": "light"
     },
     "output_type": "display_data"
    }
   ],
   "source": [
    "# Remove selected features indivdually and record f1 score\n",
    "subtract={'BASELINE':0.734,'ROUTE':0.610,'VEHICLE':0.688,'LOCATION':0.701,'INCIDENT_TYPE':0.705,'TEMP':0.717,\n",
    "          'LOCAL_HOUR':0.688,'WEEKDAY':0.714,'LOCAL_MONTH':0.713,'VISIBILITY':0.714}\n",
    "# Extract keys and values from the dictionary\n",
    "features = list(subtract.keys())\n",
    "baseline_f1 = subtract['BASELINE']  # Baseline F1 score\n",
    "f1_scores = list(subtract.values())\n",
    "\n",
    "# Calculate the percentage difference relative to the baseline\n",
    "percentage_difference = [(f1 - baseline_f1) / baseline_f1 * 100 for f1 in f1_scores]\n",
    "\n",
    "# Create a bar chart with rotated x-axis labels\n",
    "plt.figure(figsize=(6, 6))\n",
    "bars = plt.barh(features, percentage_difference, color='skyblue')  # Swap x and y\n",
    "plt.ylabel('Feature Subtracted', fontsize=12)\n",
    "plt.xlabel('Percentage Difference from Baseline', fontsize=12)\n",
    "plt.title('Percentage Difference in F1 Score for Each Feature (Relative to Baseline)', fontsize=14)\n",
    "\n",
    "plt.tight_layout()\n",
    "plt.show()"
   ]
  },
  {
   "cell_type": "markdown",
   "id": "539a6f7a",
   "metadata": {},
   "source": [
    "Verify feature selection by ensuring adding any of the removed features decreases F1 score. Dictionary with the corresponding F1 change for each feature below."
   ]
  },
  {
   "cell_type": "code",
   "execution_count": 20,
   "id": "1a49f383",
   "metadata": {},
   "outputs": [
    {
     "data": {
      "image/png": "[encoded data removed]",
      "text/plain": [
       "<Figure size 432x432 with 1 Axes>"
      ]
     },
     "metadata": {
      "needs_background": "light"
     },
     "output_type": "display_data"
    }
   ],
   "source": [
    "# Add removed features indivdually and record f1 score\n",
    "add={'BASELINE':0.734,'STATION_PRESSURE':0.723,'DEW_POINT_TEMP':0.721,'RELATIVE_HUMIDITY':0.724,'WIND_SPEED':0.722,'WIND_DIRECTION':0.724,\n",
    "    'WINDCHILL':0.724,'HUMIDEX':0.724,'PRECIP_AMOUNT':0.726,'WEATHER':0.727,'HOLIDAY':0.725}\n",
    "\n",
    "# Extract keys and values from the dictionary\n",
    "entries = list(add.keys())\n",
    "values = list(add.values())\n",
    "\n",
    "# Calculate the percentage difference relative to the baseline\n",
    "baseline_value = values[0]\n",
    "percentage_difference = [(value - baseline_value) / baseline_value * 100 for value in values]\n",
    "\n",
    "# Create a bar chart with rotated x-axis labels\n",
    "plt.figure(figsize=(6, 6))\n",
    "bars = plt.barh(entries, percentage_difference, color='skyblue')  # Swap x and y\n",
    "plt.ylabel('Feature Added', fontsize=12)\n",
    "plt.xlabel('Percentage Difference from Baseline', fontsize=12)\n",
    "plt.title('Percentage Difference in F1 Score for Each Feature (Relative to Baseline)', fontsize=14)\n",
    "\n",
    "plt.tight_layout()\n",
    "plt.show()"
   ]
  },
  {
   "cell_type": "markdown",
   "id": "ab8c7e48",
   "metadata": {},
   "source": [
    "# Hyperparameter Optimization\n",
    "Optimize for hyperparameters."
   ]
  },
  {
   "cell_type": "code",
   "execution_count": 21,
   "id": "bfdb1621",
   "metadata": {},
   "outputs": [
    {
     "data": {
      "text/plain": [
       "{'bootstrap': True,\n",
       " 'ccp_alpha': 0.0,\n",
       " 'class_weight': None,\n",
       " 'criterion': 'gini',\n",
       " 'max_depth': None,\n",
       " 'max_features': 'auto',\n",
       " 'max_leaf_nodes': None,\n",
       " 'max_samples': None,\n",
       " 'min_impurity_decrease': 0.0,\n",
       " 'min_samples_leaf': 1,\n",
       " 'min_samples_split': 2,\n",
       " 'min_weight_fraction_leaf': 0.0,\n",
       " 'n_estimators': 100,\n",
       " 'n_jobs': None,\n",
       " 'oob_score': False,\n",
       " 'random_state': None,\n",
       " 'verbose': 0,\n",
       " 'warm_start': False}"
      ]
     },
     "execution_count": 21,
     "metadata": {},
     "output_type": "execute_result"
    }
   ],
   "source": [
    "model.get_params()"
   ]
  },
  {
   "cell_type": "markdown",
   "id": "4f1d6d96",
   "metadata": {},
   "source": [
    "Modify model based on changing hyperparametrs from the baseline values. The optimal hyperparameters were kept in the RandomForestClassifier function below. "
   ]
  },
  {
   "cell_type": "code",
   "execution_count": 22,
   "id": "426698fb",
   "metadata": {},
   "outputs": [
    {
     "name": "stdout",
     "output_type": "stream",
     "text": [
      "0.7376446535610928\n"
     ]
    }
   ],
   "source": [
    "# modify model hyperparameters to achieve a better f1 score\n",
    "model = RandomForestClassifier(n_estimators=500,bootstrap=False)\n",
    "# Fit and predict\n",
    "model.fit(X_train, y_train)\n",
    "y_pred = model.predict(X_val)\n",
    "print(f1_score(y_val, y_pred, average='weighted'))"
   ]
  },
  {
   "cell_type": "markdown",
   "id": "06259a11",
   "metadata": {},
   "source": [
    "Dictionary with the corresponding F1 change for each hyperparameter modification below (baseline value in [ ])."
   ]
  },
  {
   "cell_type": "code",
   "execution_count": 23,
   "id": "f0674974",
   "metadata": {},
   "outputs": [
    {
     "data": {
      "image/png": "[encoded data removed]",
      "text/plain": [
       "<Figure size 432x432 with 1 Axes>"
      ]
     },
     "metadata": {
      "needs_background": "light"
     },
     "output_type": "display_data"
    }
   ],
   "source": [
    "# Hyperparemeters dictionary with values\n",
    "hyperparameters={'BASELINE':0.734,'Bootstrap=False[True]':0.737,'ccp_alpha=1[0]':0.419,'criterion=entropy[gini]':0.726,'max_depth=10[None]':0.642,\n",
    "               'max_leaf_nodes=10[None]':0.443,'max_samples=10[None]':0.425,'min_impurity_decrease=10[0]':0.419,'min_samples_leaf=10[1]':0.698,\n",
    "                'min_samples_split=10[2]':0.726,'min_weight_fraction_leaf=0.1[0]':0.419,'n_estimators=500[100]':0.735,'n_jobs=50[None]':0.731,\n",
    "                'oob_score=True[False]':0.734,'warm_start=True[False]':0.734}\n",
    "# Extract keys and values from the dictionary\n",
    "features = list(hyperparameters.keys())\n",
    "baseline_f1 = hyperparameters['BASELINE']  # Baseline F1 score\n",
    "f1_scores = list(hyperparameters.values())\n",
    "\n",
    "# Calculate the percentage difference relative to the baseline\n",
    "percentage_difference = [(f1 - baseline_f1) / baseline_f1 * 100 for f1 in f1_scores]\n",
    "\n",
    "# Create a bar chart with rotated x-axis labels\n",
    "plt.figure(figsize=(6, 6))\n",
    "bars = plt.barh(features, percentage_difference, color='skyblue')  # Swap x and y\n",
    "plt.ylabel('Hyperparemeter with Input (Default in [])', fontsize=12)\n",
    "plt.xlabel('Percentage Difference from Baseline', fontsize=12)\n",
    "plt.title('Percentage Difference in F1 Score for Each Hyperparameter (Relative to Baseline)', fontsize=14)\n",
    "plt.tight_layout()\n",
    "plt.show()"
   ]
  },
  {
   "cell_type": "markdown",
   "id": "55db6f45",
   "metadata": {},
   "source": [
    "# Model Validation\n",
    "Ensure model is valid using 5-fold cross validation."
   ]
  },
  {
   "cell_type": "code",
   "execution_count": null,
   "id": "5912b7fe",
   "metadata": {},
   "outputs": [],
   "source": [
    "# Define the number of folds for cross-validation\n",
    "k_fold = KFold(n_splits=5, shuffle=True, random_state=42)\n",
    "\n",
    "# Define the F1 score as the evaluation metric\n",
    "f1_scorer = make_scorer(f1_score, average='weighted')  \n",
    "\n",
    "# Perform cross-validation and calculate F1 scores\n",
    "f1_scores = cross_val_score(model, X_train, y_train, cv=k_fold, scoring=f1_scorer)\n",
    "\n",
    "# Calculate the standard deviation of F1 scores\n",
    "std_dev = np.std(f1_scores)\n",
    "\n",
    "# Calculate the maximum margin of error (95% confidence interval)\n",
    "margin_of_error = 1.96 * std_dev  # For a 95% confidence interval\n",
    "\n",
    "# Print the F1 scores for each fold\n",
    "print(\"F1 Scores for each fold:\", f1_scores)\n",
    "\n",
    "# Print the average F1 score\n",
    "print(\"Average F1 Score:\", f1_scores.mean())\n",
    "\n",
    "# Print the maximum margin of error\n",
    "print(\"Maximum Margin of Error:\", margin_of_error)"
   ]
  },
  {
   "cell_type": "markdown",
   "id": "14762965",
   "metadata": {},
   "source": [
    "Final model precision, recall, F1 score, and false alarm rate."
   ]
  },
  {
   "cell_type": "code",
   "execution_count": null,
   "id": "257a007d",
   "metadata": {},
   "outputs": [],
   "source": [
    "# Calculate precision, recall, and false alarm rate\n",
    "precision = precision_score(y_val, y_pred, average='weighted')\n",
    "recall = recall_score(y_val, y_pred, average='weighted')\n",
    "f1 = f1_score(y_val, y_pred, average='weighted')\n",
    "\n",
    "# False Alarm Rate (FAR) = 1 - Precision\n",
    "far = 1 - precision\n",
    "\n",
    "# Print the metrics\n",
    "print(\"Precision:\", precision)\n",
    "print(\"Recall:\", recall)\n",
    "print(\"F1 Score:\", f1)\n",
    "print(\"False Alarm Rate:\", far)"
   ]
  },
  {
   "cell_type": "markdown",
   "id": "4c5c5dd9",
   "metadata": {},
   "source": [
    "Final model feature importance heatmap."
   ]
  },
  {
   "cell_type": "code",
   "execution_count": null,
   "id": "91237149",
   "metadata": {},
   "outputs": [],
   "source": [
    "# Get feature importances from the trained model\n",
    "feature_importances = pd.Series(model.feature_importances_, index=X_train.columns)\n",
    "# Sort feature importances in descending order\n",
    "feature_importances = feature_importances.sort_values(ascending=False)\n",
    "\n",
    "# Create a heatmap using seaborn\n",
    "plt.figure(figsize=(12, 8))\n",
    "sns.heatmap(pd.DataFrame(feature_importances), annot=True, cmap='viridis', fmt='.3f', linewidths=.5)\n",
    "plt.title('RandomForest Feature Importances')\n",
    "plt.show()"
   ]
  },
  {
   "cell_type": "markdown",
   "id": "2139649f",
   "metadata": {},
   "source": [
    "Create feature correlation matrix for the initial and final model. Features that were highly correlated (ex: TEMP and DEW_POINT_TEMP) were removed so only one feature remained (ex: only TEMP was kept)."
   ]
  },
  {
   "cell_type": "code",
   "execution_count": null,
   "id": "227be98a",
   "metadata": {},
   "outputs": [],
   "source": [
    "# Calculate correlation matrices\n",
    "correlation_matrix1 = X2.corr()\n",
    "correlation_matrix2 = X.corr()\n",
    "\n",
    "# Create subplots\n",
    "fig, axes = plt.subplots(1, 2, figsize=(14, 6))\n",
    "\n",
    "# Plot the first correlation matrix without numbers\n",
    "sns.heatmap(correlation_matrix1, annot=False, cmap='viridis', linewidths=.5, ax=axes[0])\n",
    "axes[0].set_title('Correlation Matrix for Initial Model')\n",
    "\n",
    "# Plot the second correlation matrix without numbers\n",
    "sns.heatmap(correlation_matrix2, annot=False, cmap='viridis', linewidths=.5, ax=axes[1])\n",
    "axes[1].set_title('Correlation Matrix for Final Model')\n",
    "\n",
    "plt.tight_layout()\n",
    "plt.show()"
   ]
  }
 ],
 "metadata": {
  "kernelspec": {
   "display_name": "Python 3 (ipykernel)",
   "language": "python",
   "name": "python3"
  },
  "language_info": {
   "codemirror_mode": {
    "name": "ipython",
    "version": 3
   },
   "file_extension": ".py",
   "mimetype": "text/x-python",
   "name": "python",
   "nbconvert_exporter": "python",
   "pygments_lexer": "ipython3",
   "version": "3.9.12"
  }
 },
 "nbformat": 4,
 "nbformat_minor": 5
}
