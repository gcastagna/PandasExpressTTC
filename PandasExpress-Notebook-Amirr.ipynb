{
 "cells": [
  {
   "cell_type": "markdown",
   "metadata": {},
   "source": [
    "# Pandas Express - Amir\n",
    "# TTC-Delays project\n",
    "Team Members: \n",
    "\n",
    "Gaspare Castagna\n",
    "\n",
    "Amirhossein Heidari\n",
    "\n",
    "Avery Hoffer\n",
    "\n",
    "Michael Metallo"
   ]
  },
  {
   "cell_type": "code",
   "execution_count": 1,
   "metadata": {},
   "outputs": [],
   "source": [
    "import numpy as numpy\n",
    "import pandas as pd\n",
    "import os\n",
    "import numpy as np\n",
    "import seaborn as sns\n",
    "import geopandas as gpd\n",
    "import matplotlib.pyplot as plt"
   ]
  },
  {
   "cell_type": "code",
   "execution_count": 2,
   "metadata": {},
   "outputs": [
    {
     "name": "stderr",
     "output_type": "stream",
     "text": [
      "C:\\Users\\ASuS\\AppData\\Local\\Temp\\ipykernel_9712\\3754450213.py:1: DtypeWarning: Columns (1,8) have mixed types. Specify dtype option on import or set low_memory=False.\n",
      "  df_bus_delay=pd.read_csv('bus_delays.csv')\n"
     ]
    },
    {
     "data": {
      "text/html": [
       "<div>\n",
       "<style scoped>\n",
       "    .dataframe tbody tr th:only-of-type {\n",
       "        vertical-align: middle;\n",
       "    }\n",
       "\n",
       "    .dataframe tbody tr th {\n",
       "        vertical-align: top;\n",
       "    }\n",
       "\n",
       "    .dataframe thead th {\n",
       "        text-align: right;\n",
       "    }\n",
       "</style>\n",
       "<table border=\"1\" class=\"dataframe\">\n",
       "  <thead>\n",
       "    <tr style=\"text-align: right;\">\n",
       "      <th></th>\n",
       "      <th>Unnamed: 0</th>\n",
       "      <th>Route</th>\n",
       "      <th>Day</th>\n",
       "      <th>Location</th>\n",
       "      <th>Incident</th>\n",
       "      <th>Min Delay</th>\n",
       "      <th>Min Gap</th>\n",
       "      <th>Vehicle</th>\n",
       "      <th>DateTime</th>\n",
       "      <th>copy</th>\n",
       "      <th>analysis</th>\n",
       "    </tr>\n",
       "  </thead>\n",
       "  <tbody>\n",
       "    <tr>\n",
       "      <th>0</th>\n",
       "      <td>0</td>\n",
       "      <td>95</td>\n",
       "      <td>Wednesday</td>\n",
       "      <td>York Mills station</td>\n",
       "      <td>Mechanical</td>\n",
       "      <td>10.0</td>\n",
       "      <td>20.0</td>\n",
       "      <td>1734.0</td>\n",
       "      <td>2014-01-01 00:23:00</td>\n",
       "      <td>yorkmillsstation</td>\n",
       "      <td>yorkmillsstation</td>\n",
       "    </tr>\n",
       "    <tr>\n",
       "      <th>1</th>\n",
       "      <td>1</td>\n",
       "      <td>102</td>\n",
       "      <td>Wednesday</td>\n",
       "      <td>Entire run for route</td>\n",
       "      <td>General Delay</td>\n",
       "      <td>33.0</td>\n",
       "      <td>66.0</td>\n",
       "      <td>8110.0</td>\n",
       "      <td>2014-01-01 00:55:00</td>\n",
       "      <td>entirerunforroute</td>\n",
       "      <td>entirerunforroute</td>\n",
       "    </tr>\n",
       "    <tr>\n",
       "      <th>2</th>\n",
       "      <td>2</td>\n",
       "      <td>54</td>\n",
       "      <td>Wednesday</td>\n",
       "      <td>lawrence and Warden</td>\n",
       "      <td>Mechanical</td>\n",
       "      <td>10.0</td>\n",
       "      <td>20.0</td>\n",
       "      <td>7478.0</td>\n",
       "      <td>2014-01-01 01:28:00</td>\n",
       "      <td>lawrence&amp;warden</td>\n",
       "      <td>warden</td>\n",
       "    </tr>\n",
       "    <tr>\n",
       "      <th>3</th>\n",
       "      <td>3</td>\n",
       "      <td>112</td>\n",
       "      <td>Wednesday</td>\n",
       "      <td>Kipling Station</td>\n",
       "      <td>Emergency Services</td>\n",
       "      <td>18.0</td>\n",
       "      <td>36.0</td>\n",
       "      <td>8084.0</td>\n",
       "      <td>2014-01-01 01:30:00</td>\n",
       "      <td>kiplingstation</td>\n",
       "      <td>kiplingstation</td>\n",
       "    </tr>\n",
       "    <tr>\n",
       "      <th>4</th>\n",
       "      <td>4</td>\n",
       "      <td>24</td>\n",
       "      <td>Wednesday</td>\n",
       "      <td>VP and Ellesmere</td>\n",
       "      <td>Investigation</td>\n",
       "      <td>10.0</td>\n",
       "      <td>20.0</td>\n",
       "      <td>7843.0</td>\n",
       "      <td>2014-01-01 01:37:00</td>\n",
       "      <td>ellesmere&amp;victoriapark</td>\n",
       "      <td>ellesmere&amp;victoriapark</td>\n",
       "    </tr>\n",
       "    <tr>\n",
       "      <th>...</th>\n",
       "      <td>...</td>\n",
       "      <td>...</td>\n",
       "      <td>...</td>\n",
       "      <td>...</td>\n",
       "      <td>...</td>\n",
       "      <td>...</td>\n",
       "      <td>...</td>\n",
       "      <td>...</td>\n",
       "      <td>...</td>\n",
       "      <td>...</td>\n",
       "      <td>...</td>\n",
       "    </tr>\n",
       "    <tr>\n",
       "      <th>588508</th>\n",
       "      <td>588508</td>\n",
       "      <td>32</td>\n",
       "      <td>Saturday</td>\n",
       "      <td>EGLINTON AND EDITH (W</td>\n",
       "      <td>Mechanical</td>\n",
       "      <td>2.0</td>\n",
       "      <td>24.0</td>\n",
       "      <td>1085.0</td>\n",
       "      <td>NaN</td>\n",
       "      <td>edithw&amp;eglinton</td>\n",
       "      <td>islington</td>\n",
       "    </tr>\n",
       "    <tr>\n",
       "      <th>588509</th>\n",
       "      <td>588509</td>\n",
       "      <td>113</td>\n",
       "      <td>Saturday</td>\n",
       "      <td>DANFORTH AND DAWES</td>\n",
       "      <td>Vision</td>\n",
       "      <td>20.0</td>\n",
       "      <td>40.0</td>\n",
       "      <td>8589.0</td>\n",
       "      <td>NaN</td>\n",
       "      <td>danforth&amp;dawes</td>\n",
       "      <td>danforth&amp;dawes</td>\n",
       "    </tr>\n",
       "    <tr>\n",
       "      <th>588510</th>\n",
       "      <td>588510</td>\n",
       "      <td>72</td>\n",
       "      <td>Saturday</td>\n",
       "      <td>LOWER SHERBOURNE AND L</td>\n",
       "      <td>Security</td>\n",
       "      <td>18.0</td>\n",
       "      <td>36.0</td>\n",
       "      <td>8493.0</td>\n",
       "      <td>NaN</td>\n",
       "      <td>l&amp;lowersherbourne</td>\n",
       "      <td>sherbourne</td>\n",
       "    </tr>\n",
       "    <tr>\n",
       "      <th>588511</th>\n",
       "      <td>588511</td>\n",
       "      <td>22</td>\n",
       "      <td>Saturday</td>\n",
       "      <td>BINGHAM LOOP</td>\n",
       "      <td>Cleaning - Unsanitary</td>\n",
       "      <td>10.0</td>\n",
       "      <td>20.0</td>\n",
       "      <td>8582.0</td>\n",
       "      <td>NaN</td>\n",
       "      <td>binghamloop</td>\n",
       "      <td>binghamloop</td>\n",
       "    </tr>\n",
       "    <tr>\n",
       "      <th>588512</th>\n",
       "      <td>588512</td>\n",
       "      <td>7</td>\n",
       "      <td>Saturday</td>\n",
       "      <td>BATHURST STATION</td>\n",
       "      <td>General Delay</td>\n",
       "      <td>10.0</td>\n",
       "      <td>20.0</td>\n",
       "      <td>8354.0</td>\n",
       "      <td>NaN</td>\n",
       "      <td>bathurststation</td>\n",
       "      <td>bathurststation</td>\n",
       "    </tr>\n",
       "  </tbody>\n",
       "</table>\n",
       "<p>588513 rows × 11 columns</p>\n",
       "</div>"
      ],
      "text/plain": [
       "        Unnamed: 0 Route        Day                Location  \\\n",
       "0                0    95  Wednesday      York Mills station   \n",
       "1                1   102  Wednesday    Entire run for route   \n",
       "2                2    54  Wednesday     lawrence and Warden   \n",
       "3                3   112  Wednesday         Kipling Station   \n",
       "4                4    24  Wednesday        VP and Ellesmere   \n",
       "...            ...   ...        ...                     ...   \n",
       "588508      588508    32   Saturday   EGLINTON AND EDITH (W   \n",
       "588509      588509   113   Saturday      DANFORTH AND DAWES   \n",
       "588510      588510    72   Saturday  LOWER SHERBOURNE AND L   \n",
       "588511      588511    22   Saturday            BINGHAM LOOP   \n",
       "588512      588512     7   Saturday        BATHURST STATION   \n",
       "\n",
       "                     Incident  Min Delay  Min Gap  Vehicle  \\\n",
       "0                  Mechanical       10.0     20.0   1734.0   \n",
       "1               General Delay       33.0     66.0   8110.0   \n",
       "2                  Mechanical       10.0     20.0   7478.0   \n",
       "3          Emergency Services       18.0     36.0   8084.0   \n",
       "4               Investigation       10.0     20.0   7843.0   \n",
       "...                       ...        ...      ...      ...   \n",
       "588508             Mechanical        2.0     24.0   1085.0   \n",
       "588509                 Vision       20.0     40.0   8589.0   \n",
       "588510               Security       18.0     36.0   8493.0   \n",
       "588511  Cleaning - Unsanitary       10.0     20.0   8582.0   \n",
       "588512          General Delay       10.0     20.0   8354.0   \n",
       "\n",
       "                   DateTime                    copy                analysis  \n",
       "0       2014-01-01 00:23:00        yorkmillsstation        yorkmillsstation  \n",
       "1       2014-01-01 00:55:00       entirerunforroute       entirerunforroute  \n",
       "2       2014-01-01 01:28:00         lawrence&warden                  warden  \n",
       "3       2014-01-01 01:30:00          kiplingstation          kiplingstation  \n",
       "4       2014-01-01 01:37:00  ellesmere&victoriapark  ellesmere&victoriapark  \n",
       "...                     ...                     ...                     ...  \n",
       "588508                  NaN         edithw&eglinton               islington  \n",
       "588509                  NaN          danforth&dawes          danforth&dawes  \n",
       "588510                  NaN       l&lowersherbourne              sherbourne  \n",
       "588511                  NaN             binghamloop             binghamloop  \n",
       "588512                  NaN         bathurststation         bathurststation  \n",
       "\n",
       "[588513 rows x 11 columns]"
      ]
     },
     "execution_count": 2,
     "metadata": {},
     "output_type": "execute_result"
    }
   ],
   "source": [
    "df_bus_delay=pd.read_csv('bus_delays.csv')\n",
    "df_bus_delay.head(10000000)"
   ]
  },
  {
   "cell_type": "code",
   "execution_count": 85,
   "metadata": {},
   "outputs": [
    {
     "data": {
      "application/vnd.plotly.v1+json": {
       "config": {
        "plotlyServerURL": "https://plot.ly"
       },
       "data": [
        {
         "domain": {
          "x": [
           0,
           1
          ],
          "y": [
           0,
           1
          ]
         },
         "hovertemplate": "Incident=%{label}<br>count=%{value}<extra></extra>",
         "labels": [
          "Mechanical",
          "Utilized Off Route",
          "General Delay",
          "Late Leaving Garage",
          "Investigation",
          "Operations - Operator",
          "Diversion",
          "Emergency Services",
          "Cleaning"
         ],
         "legendgroup": "",
         "marker": {
          "line": {
           "color": "black",
           "width": 2
          }
         },
         "name": "",
         "showlegend": true,
         "texttemplate": "",
         "type": "pie",
         "values": [
          190102,
          65810,
          62675,
          59946,
          42725,
          27878,
          16694,
          11700,
          8807
         ]
        }
       ],
       "layout": {
        "font": {
         "family": "Arial",
         "size": 18
        },
        "height": 600,
        "legend": {
         "tracegroupgap": 0
        },
        "piecolorway": [
         "rgb(179,179,179)",
         "rgb(229,196,148)",
         "rgb(255,217,47)",
         "rgb(166,216,84)",
         "rgb(231,138,195)",
         "rgb(141,160,203)",
         "rgb(252,141,98)",
         "rgb(102,194,165)"
        ],
        "template": {
         "data": {
          "bar": [
           {
            "error_x": {
             "color": "#2a3f5f"
            },
            "error_y": {
             "color": "#2a3f5f"
            },
            "marker": {
             "line": {
              "color": "#E5ECF6",
              "width": 0.5
             },
             "pattern": {
              "fillmode": "overlay",
              "size": 10,
              "solidity": 0.2
             }
            },
            "type": "bar"
           }
          ],
          "barpolar": [
           {
            "marker": {
             "line": {
              "color": "#E5ECF6",
              "width": 0.5
             },
             "pattern": {
              "fillmode": "overlay",
              "size": 10,
              "solidity": 0.2
             }
            },
            "type": "barpolar"
           }
          ],
          "carpet": [
           {
            "aaxis": {
             "endlinecolor": "#2a3f5f",
             "gridcolor": "white",
             "linecolor": "white",
             "minorgridcolor": "white",
             "startlinecolor": "#2a3f5f"
            },
            "baxis": {
             "endlinecolor": "#2a3f5f",
             "gridcolor": "white",
             "linecolor": "white",
             "minorgridcolor": "white",
             "startlinecolor": "#2a3f5f"
            },
            "type": "carpet"
           }
          ],
          "choropleth": [
           {
            "colorbar": {
             "outlinewidth": 0,
             "ticks": ""
            },
            "type": "choropleth"
           }
          ],
          "contour": [
           {
            "colorbar": {
             "outlinewidth": 0,
             "ticks": ""
            },
            "colorscale": [
             [
              0,
              "#0d0887"
             ],
             [
              0.1111111111111111,
              "#46039f"
             ],
             [
              0.2222222222222222,
              "#7201a8"
             ],
             [
              0.3333333333333333,
              "#9c179e"
             ],
             [
              0.4444444444444444,
              "#bd3786"
             ],
             [
              0.5555555555555556,
              "#d8576b"
             ],
             [
              0.6666666666666666,
              "#ed7953"
             ],
             [
              0.7777777777777778,
              "#fb9f3a"
             ],
             [
              0.8888888888888888,
              "#fdca26"
             ],
             [
              1,
              "#f0f921"
             ]
            ],
            "type": "contour"
           }
          ],
          "contourcarpet": [
           {
            "colorbar": {
             "outlinewidth": 0,
             "ticks": ""
            },
            "type": "contourcarpet"
           }
          ],
          "heatmap": [
           {
            "colorbar": {
             "outlinewidth": 0,
             "ticks": ""
            },
            "colorscale": [
             [
              0,
              "#0d0887"
             ],
             [
              0.1111111111111111,
              "#46039f"
             ],
             [
              0.2222222222222222,
              "#7201a8"
             ],
             [
              0.3333333333333333,
              "#9c179e"
             ],
             [
              0.4444444444444444,
              "#bd3786"
             ],
             [
              0.5555555555555556,
              "#d8576b"
             ],
             [
              0.6666666666666666,
              "#ed7953"
             ],
             [
              0.7777777777777778,
              "#fb9f3a"
             ],
             [
              0.8888888888888888,
              "#fdca26"
             ],
             [
              1,
              "#f0f921"
             ]
            ],
            "type": "heatmap"
           }
          ],
          "heatmapgl": [
           {
            "colorbar": {
             "outlinewidth": 0,
             "ticks": ""
            },
            "colorscale": [
             [
              0,
              "#0d0887"
             ],
             [
              0.1111111111111111,
              "#46039f"
             ],
             [
              0.2222222222222222,
              "#7201a8"
             ],
             [
              0.3333333333333333,
              "#9c179e"
             ],
             [
              0.4444444444444444,
              "#bd3786"
             ],
             [
              0.5555555555555556,
              "#d8576b"
             ],
             [
              0.6666666666666666,
              "#ed7953"
             ],
             [
              0.7777777777777778,
              "#fb9f3a"
             ],
             [
              0.8888888888888888,
              "#fdca26"
             ],
             [
              1,
              "#f0f921"
             ]
            ],
            "type": "heatmapgl"
           }
          ],
          "histogram": [
           {
            "marker": {
             "pattern": {
              "fillmode": "overlay",
              "size": 10,
              "solidity": 0.2
             }
            },
            "type": "histogram"
           }
          ],
          "histogram2d": [
           {
            "colorbar": {
             "outlinewidth": 0,
             "ticks": ""
            },
            "colorscale": [
             [
              0,
              "#0d0887"
             ],
             [
              0.1111111111111111,
              "#46039f"
             ],
             [
              0.2222222222222222,
              "#7201a8"
             ],
             [
              0.3333333333333333,
              "#9c179e"
             ],
             [
              0.4444444444444444,
              "#bd3786"
             ],
             [
              0.5555555555555556,
              "#d8576b"
             ],
             [
              0.6666666666666666,
              "#ed7953"
             ],
             [
              0.7777777777777778,
              "#fb9f3a"
             ],
             [
              0.8888888888888888,
              "#fdca26"
             ],
             [
              1,
              "#f0f921"
             ]
            ],
            "type": "histogram2d"
           }
          ],
          "histogram2dcontour": [
           {
            "colorbar": {
             "outlinewidth": 0,
             "ticks": ""
            },
            "colorscale": [
             [
              0,
              "#0d0887"
             ],
             [
              0.1111111111111111,
              "#46039f"
             ],
             [
              0.2222222222222222,
              "#7201a8"
             ],
             [
              0.3333333333333333,
              "#9c179e"
             ],
             [
              0.4444444444444444,
              "#bd3786"
             ],
             [
              0.5555555555555556,
              "#d8576b"
             ],
             [
              0.6666666666666666,
              "#ed7953"
             ],
             [
              0.7777777777777778,
              "#fb9f3a"
             ],
             [
              0.8888888888888888,
              "#fdca26"
             ],
             [
              1,
              "#f0f921"
             ]
            ],
            "type": "histogram2dcontour"
           }
          ],
          "mesh3d": [
           {
            "colorbar": {
             "outlinewidth": 0,
             "ticks": ""
            },
            "type": "mesh3d"
           }
          ],
          "parcoords": [
           {
            "line": {
             "colorbar": {
              "outlinewidth": 0,
              "ticks": ""
             }
            },
            "type": "parcoords"
           }
          ],
          "pie": [
           {
            "automargin": true,
            "type": "pie"
           }
          ],
          "scatter": [
           {
            "fillpattern": {
             "fillmode": "overlay",
             "size": 10,
             "solidity": 0.2
            },
            "type": "scatter"
           }
          ],
          "scatter3d": [
           {
            "line": {
             "colorbar": {
              "outlinewidth": 0,
              "ticks": ""
             }
            },
            "marker": {
             "colorbar": {
              "outlinewidth": 0,
              "ticks": ""
             }
            },
            "type": "scatter3d"
           }
          ],
          "scattercarpet": [
           {
            "marker": {
             "colorbar": {
              "outlinewidth": 0,
              "ticks": ""
             }
            },
            "type": "scattercarpet"
           }
          ],
          "scattergeo": [
           {
            "marker": {
             "colorbar": {
              "outlinewidth": 0,
              "ticks": ""
             }
            },
            "type": "scattergeo"
           }
          ],
          "scattergl": [
           {
            "marker": {
             "colorbar": {
              "outlinewidth": 0,
              "ticks": ""
             }
            },
            "type": "scattergl"
           }
          ],
          "scattermapbox": [
           {
            "marker": {
             "colorbar": {
              "outlinewidth": 0,
              "ticks": ""
             }
            },
            "type": "scattermapbox"
           }
          ],
          "scatterpolar": [
           {
            "marker": {
             "colorbar": {
              "outlinewidth": 0,
              "ticks": ""
             }
            },
            "type": "scatterpolar"
           }
          ],
          "scatterpolargl": [
           {
            "marker": {
             "colorbar": {
              "outlinewidth": 0,
              "ticks": ""
             }
            },
            "type": "scatterpolargl"
           }
          ],
          "scatterternary": [
           {
            "marker": {
             "colorbar": {
              "outlinewidth": 0,
              "ticks": ""
             }
            },
            "type": "scatterternary"
           }
          ],
          "surface": [
           {
            "colorbar": {
             "outlinewidth": 0,
             "ticks": ""
            },
            "colorscale": [
             [
              0,
              "#0d0887"
             ],
             [
              0.1111111111111111,
              "#46039f"
             ],
             [
              0.2222222222222222,
              "#7201a8"
             ],
             [
              0.3333333333333333,
              "#9c179e"
             ],
             [
              0.4444444444444444,
              "#bd3786"
             ],
             [
              0.5555555555555556,
              "#d8576b"
             ],
             [
              0.6666666666666666,
              "#ed7953"
             ],
             [
              0.7777777777777778,
              "#fb9f3a"
             ],
             [
              0.8888888888888888,
              "#fdca26"
             ],
             [
              1,
              "#f0f921"
             ]
            ],
            "type": "surface"
           }
          ],
          "table": [
           {
            "cells": {
             "fill": {
              "color": "#EBF0F8"
             },
             "line": {
              "color": "white"
             }
            },
            "header": {
             "fill": {
              "color": "#C8D4E3"
             },
             "line": {
              "color": "white"
             }
            },
            "type": "table"
           }
          ]
         },
         "layout": {
          "annotationdefaults": {
           "arrowcolor": "#2a3f5f",
           "arrowhead": 0,
           "arrowwidth": 1
          },
          "autotypenumbers": "strict",
          "coloraxis": {
           "colorbar": {
            "outlinewidth": 0,
            "ticks": ""
           }
          },
          "colorscale": {
           "diverging": [
            [
             0,
             "#8e0152"
            ],
            [
             0.1,
             "#c51b7d"
            ],
            [
             0.2,
             "#de77ae"
            ],
            [
             0.3,
             "#f1b6da"
            ],
            [
             0.4,
             "#fde0ef"
            ],
            [
             0.5,
             "#f7f7f7"
            ],
            [
             0.6,
             "#e6f5d0"
            ],
            [
             0.7,
             "#b8e186"
            ],
            [
             0.8,
             "#7fbc41"
            ],
            [
             0.9,
             "#4d9221"
            ],
            [
             1,
             "#276419"
            ]
           ],
           "sequential": [
            [
             0,
             "#0d0887"
            ],
            [
             0.1111111111111111,
             "#46039f"
            ],
            [
             0.2222222222222222,
             "#7201a8"
            ],
            [
             0.3333333333333333,
             "#9c179e"
            ],
            [
             0.4444444444444444,
             "#bd3786"
            ],
            [
             0.5555555555555556,
             "#d8576b"
            ],
            [
             0.6666666666666666,
             "#ed7953"
            ],
            [
             0.7777777777777778,
             "#fb9f3a"
            ],
            [
             0.8888888888888888,
             "#fdca26"
            ],
            [
             1,
             "#f0f921"
            ]
           ],
           "sequentialminus": [
            [
             0,
             "#0d0887"
            ],
            [
             0.1111111111111111,
             "#46039f"
            ],
            [
             0.2222222222222222,
             "#7201a8"
            ],
            [
             0.3333333333333333,
             "#9c179e"
            ],
            [
             0.4444444444444444,
             "#bd3786"
            ],
            [
             0.5555555555555556,
             "#d8576b"
            ],
            [
             0.6666666666666666,
             "#ed7953"
            ],
            [
             0.7777777777777778,
             "#fb9f3a"
            ],
            [
             0.8888888888888888,
             "#fdca26"
            ],
            [
             1,
             "#f0f921"
            ]
           ]
          },
          "colorway": [
           "#636efa",
           "#EF553B",
           "#00cc96",
           "#ab63fa",
           "#FFA15A",
           "#19d3f3",
           "#FF6692",
           "#B6E880",
           "#FF97FF",
           "#FECB52"
          ],
          "font": {
           "color": "#2a3f5f"
          },
          "geo": {
           "bgcolor": "white",
           "lakecolor": "white",
           "landcolor": "#E5ECF6",
           "showlakes": true,
           "showland": true,
           "subunitcolor": "white"
          },
          "hoverlabel": {
           "align": "left"
          },
          "hovermode": "closest",
          "mapbox": {
           "style": "light"
          },
          "paper_bgcolor": "white",
          "plot_bgcolor": "#E5ECF6",
          "polar": {
           "angularaxis": {
            "gridcolor": "white",
            "linecolor": "white",
            "ticks": ""
           },
           "bgcolor": "#E5ECF6",
           "radialaxis": {
            "gridcolor": "white",
            "linecolor": "white",
            "ticks": ""
           }
          },
          "scene": {
           "xaxis": {
            "backgroundcolor": "#E5ECF6",
            "gridcolor": "white",
            "gridwidth": 2,
            "linecolor": "white",
            "showbackground": true,
            "ticks": "",
            "zerolinecolor": "white"
           },
           "yaxis": {
            "backgroundcolor": "#E5ECF6",
            "gridcolor": "white",
            "gridwidth": 2,
            "linecolor": "white",
            "showbackground": true,
            "ticks": "",
            "zerolinecolor": "white"
           },
           "zaxis": {
            "backgroundcolor": "#E5ECF6",
            "gridcolor": "white",
            "gridwidth": 2,
            "linecolor": "white",
            "showbackground": true,
            "ticks": "",
            "zerolinecolor": "white"
           }
          },
          "shapedefaults": {
           "line": {
            "color": "#2a3f5f"
           }
          },
          "ternary": {
           "aaxis": {
            "gridcolor": "white",
            "linecolor": "white",
            "ticks": ""
           },
           "baxis": {
            "gridcolor": "white",
            "linecolor": "white",
            "ticks": ""
           },
           "bgcolor": "#E5ECF6",
           "caxis": {
            "gridcolor": "white",
            "linecolor": "white",
            "ticks": ""
           }
          },
          "title": {
           "x": 0.05
          },
          "xaxis": {
           "automargin": true,
           "gridcolor": "white",
           "linecolor": "white",
           "ticks": "",
           "title": {
            "standoff": 15
           },
           "zerolinecolor": "white",
           "zerolinewidth": 2
          },
          "yaxis": {
           "automargin": true,
           "gridcolor": "white",
           "linecolor": "white",
           "ticks": "",
           "title": {
            "standoff": 15
           },
           "zerolinecolor": "white",
           "zerolinewidth": 2
          }
         }
        },
        "title": {
         "text": "Pie Chart Example"
        },
        "width": 700
       }
      }
     },
     "metadata": {},
     "output_type": "display_data"
    }
   ],
   "source": [
    "import plotly.express as px\n",
    "\n",
    "Incident_data = df_bus_delay['Incident'].value_counts().reset_index()\n",
    "Incident_data_major = Incident_data[Incident_data['count'] >= 5000]\n",
    "\n",
    "# Set the size of the figure using the width and height parameters\n",
    "fig = px.pie(\n",
    "    Incident_data_major,\n",
    "    names='Incident',\n",
    "    values='count',\n",
    "    title='Pie Chart Example',\n",
    "    width=700,\n",
    "    height=600,\n",
    "    color_discrete_sequence=px.colors.qualitative.Set2_r  # Use a more vibrant color palette\n",
    ")\n",
    "\n",
    "fig.update_traces(\n",
    "    texttemplate='',  # Set the text template to an empty string to hide percentages\n",
    "    marker=dict(line=dict(color='black', width=2))  # Add borders to the pie chart\n",
    ")\n",
    "\n",
    "# Customize the text font\n",
    "fig.update_layout(font=dict(family='Arial', size=18))\n",
    "\n",
    "fig.show()"
   ]
  },
  {
   "cell_type": "code",
   "execution_count": 4,
   "metadata": {},
   "outputs": [
    {
     "name": "stderr",
     "output_type": "stream",
     "text": [
      "C:\\Users\\ASuS\\AppData\\Local\\Temp\\ipykernel_9712\\1600918903.py:20: UserWarning:\n",
      "\n",
      "set_ticklabels() should only be used with a fixed number of ticks, i.e. after set_ticks() or using a FixedLocator.\n",
      "\n"
     ]
    },
    {
     "data": {
      "image/png": "[encoded data removed]",
      "text/plain": [
       "<Figure size 1200x400 with 1 Axes>"
      ]
     },
     "metadata": {},
     "output_type": "display_data"
    },
    {
     "data": {
      "text/html": [
       "<div>\n",
       "<style scoped>\n",
       "    .dataframe tbody tr th:only-of-type {\n",
       "        vertical-align: middle;\n",
       "    }\n",
       "\n",
       "    .dataframe tbody tr th {\n",
       "        vertical-align: top;\n",
       "    }\n",
       "\n",
       "    .dataframe thead th {\n",
       "        text-align: right;\n",
       "    }\n",
       "</style>\n",
       "<table border=\"1\" class=\"dataframe\">\n",
       "  <thead>\n",
       "    <tr style=\"text-align: right;\">\n",
       "      <th></th>\n",
       "      <th>month_year</th>\n",
       "      <th>count</th>\n",
       "    </tr>\n",
       "  </thead>\n",
       "  <tbody>\n",
       "    <tr>\n",
       "      <th>0</th>\n",
       "      <td>2014-01</td>\n",
       "      <td>31</td>\n",
       "    </tr>\n",
       "    <tr>\n",
       "      <th>75</th>\n",
       "      <td>2014-02</td>\n",
       "      <td>28</td>\n",
       "    </tr>\n",
       "    <tr>\n",
       "      <th>41</th>\n",
       "      <td>2014-03</td>\n",
       "      <td>31</td>\n",
       "    </tr>\n",
       "    <tr>\n",
       "      <th>50</th>\n",
       "      <td>2014-04</td>\n",
       "      <td>30</td>\n",
       "    </tr>\n",
       "    <tr>\n",
       "      <th>44</th>\n",
       "      <td>2014-05</td>\n",
       "      <td>31</td>\n",
       "    </tr>\n",
       "    <tr>\n",
       "      <th>...</th>\n",
       "      <td>...</td>\n",
       "      <td>...</td>\n",
       "    </tr>\n",
       "    <tr>\n",
       "      <th>47</th>\n",
       "      <td>2020-04</td>\n",
       "      <td>30</td>\n",
       "    </tr>\n",
       "    <tr>\n",
       "      <th>26</th>\n",
       "      <td>2020-05</td>\n",
       "      <td>31</td>\n",
       "    </tr>\n",
       "    <tr>\n",
       "      <th>46</th>\n",
       "      <td>2020-06</td>\n",
       "      <td>30</td>\n",
       "    </tr>\n",
       "    <tr>\n",
       "      <th>78</th>\n",
       "      <td>2020-07</td>\n",
       "      <td>27</td>\n",
       "    </tr>\n",
       "    <tr>\n",
       "      <th>79</th>\n",
       "      <td>2020-08</td>\n",
       "      <td>1</td>\n",
       "    </tr>\n",
       "  </tbody>\n",
       "</table>\n",
       "<p>80 rows × 2 columns</p>\n",
       "</div>"
      ],
      "text/plain": [
       "   month_year  count\n",
       "0     2014-01     31\n",
       "75    2014-02     28\n",
       "41    2014-03     31\n",
       "50    2014-04     30\n",
       "44    2014-05     31\n",
       "..        ...    ...\n",
       "47    2020-04     30\n",
       "26    2020-05     31\n",
       "46    2020-06     30\n",
       "78    2020-07     27\n",
       "79    2020-08      1\n",
       "\n",
       "[80 rows x 2 columns]"
      ]
     },
     "execution_count": 4,
     "metadata": {},
     "output_type": "execute_result"
    }
   ],
   "source": [
    "\n",
    "df_bus_delay['DateTime'] = pd.to_datetime(df_bus_delay['DateTime'])\n",
    "df_bus_delay['just_date'] = df_bus_delay['DateTime'].dt.date\n",
    "date_delays = df_bus_delay['just_date'].value_counts().reset_index()\n",
    "date_delays = date_delays.sort_values(by='just_date')\n",
    "\n",
    "\n",
    "date_delays['just_date'] = pd.to_datetime(date_delays['just_date'])\n",
    "date_delays['month_year'] = date_delays['just_date'].dt.strftime('%Y-%m')\n",
    "\n",
    "date_delays_2=date_delays['month_year'].value_counts().reset_index()\n",
    "date_delays_2 = date_delays_2.sort_values(by='month_year')\n",
    "date_delays_2 = date_delays_2.dropna(subset=['month_year'])\n",
    "\n",
    "date_delays_2.head(5000000)\n",
    "\n",
    "\n",
    "plt.figure(figsize=(12, 4))\n",
    "ax = sns.lineplot(data=date_delays_2, x='month_year', y='count', color='red', marker='o')\n",
    "ax.set(title='Lineplot of delays per Date', xlabel='Date', ylabel='Number')\n",
    "ax.set_xticklabels(ax.get_xticklabels(), rotation=90)\n",
    "plt.show()\n",
    "date_delays_2.head(5000000)\n"
   ]
  },
  {
   "cell_type": "code",
   "execution_count": 5,
   "metadata": {},
   "outputs": [
    {
     "data": {
      "image/png": "[encoded data removed]",
      "text/plain": [
       "<Figure size 1200x400 with 1 Axes>"
      ]
     },
     "metadata": {},
     "output_type": "display_data"
    },
    {
     "data": {
      "text/html": [
       "<div>\n",
       "<style scoped>\n",
       "    .dataframe tbody tr th:only-of-type {\n",
       "        vertical-align: middle;\n",
       "    }\n",
       "\n",
       "    .dataframe tbody tr th {\n",
       "        vertical-align: top;\n",
       "    }\n",
       "\n",
       "    .dataframe thead th {\n",
       "        text-align: right;\n",
       "    }\n",
       "</style>\n",
       "<table border=\"1\" class=\"dataframe\">\n",
       "  <thead>\n",
       "    <tr style=\"text-align: right;\">\n",
       "      <th></th>\n",
       "      <th>Min Delay</th>\n",
       "      <th>count</th>\n",
       "    </tr>\n",
       "  </thead>\n",
       "  <tbody>\n",
       "    <tr>\n",
       "      <th>23</th>\n",
       "      <td>2.0</td>\n",
       "      <td>4361</td>\n",
       "    </tr>\n",
       "    <tr>\n",
       "      <th>17</th>\n",
       "      <td>3.0</td>\n",
       "      <td>9605</td>\n",
       "    </tr>\n",
       "    <tr>\n",
       "      <th>12</th>\n",
       "      <td>4.0</td>\n",
       "      <td>17621</td>\n",
       "    </tr>\n",
       "    <tr>\n",
       "      <th>4</th>\n",
       "      <td>5.0</td>\n",
       "      <td>32121</td>\n",
       "    </tr>\n",
       "    <tr>\n",
       "      <th>9</th>\n",
       "      <td>6.0</td>\n",
       "      <td>26585</td>\n",
       "    </tr>\n",
       "    <tr>\n",
       "      <th>...</th>\n",
       "      <td>...</td>\n",
       "      <td>...</td>\n",
       "    </tr>\n",
       "    <tr>\n",
       "      <th>65</th>\n",
       "      <td>85.0</td>\n",
       "      <td>141</td>\n",
       "    </tr>\n",
       "    <tr>\n",
       "      <th>118</th>\n",
       "      <td>86.0</td>\n",
       "      <td>60</td>\n",
       "    </tr>\n",
       "    <tr>\n",
       "      <th>104</th>\n",
       "      <td>87.0</td>\n",
       "      <td>67</td>\n",
       "    </tr>\n",
       "    <tr>\n",
       "      <th>121</th>\n",
       "      <td>88.0</td>\n",
       "      <td>56</td>\n",
       "    </tr>\n",
       "    <tr>\n",
       "      <th>111</th>\n",
       "      <td>89.0</td>\n",
       "      <td>62</td>\n",
       "    </tr>\n",
       "  </tbody>\n",
       "</table>\n",
       "<p>88 rows × 2 columns</p>\n",
       "</div>"
      ],
      "text/plain": [
       "     Min Delay  count\n",
       "23         2.0   4361\n",
       "17         3.0   9605\n",
       "12         4.0  17621\n",
       "4          5.0  32121\n",
       "9          6.0  26585\n",
       "..         ...    ...\n",
       "65        85.0    141\n",
       "118       86.0     60\n",
       "104       87.0     67\n",
       "121       88.0     56\n",
       "111       89.0     62\n",
       "\n",
       "[88 rows x 2 columns]"
      ]
     },
     "execution_count": 5,
     "metadata": {},
     "output_type": "execute_result"
    }
   ],
   "source": [
    "df_duration = df_bus_delay['Min Delay'].value_counts().reset_index()\n",
    "df_duration = df_duration[(df_duration['Min Delay'] > 1) & (df_duration['Min Delay'] < 90)]\n",
    "df_duration = df_duration.sort_values(by='Min Delay')\n",
    "\n",
    "plt.figure(figsize=(12, 4))\n",
    "ax = sns.barplot(data=df_duration, x='Min Delay', y='count', color='red')\n",
    "ax.set(title='Min Delay', xlabel='Delay (min)', ylabel='Frequency')\n",
    "#ax.set_xticklabels(ax.get_xticklabels(), rotation=90)\n",
    "\n",
    "# Set x-axis ticks for every 5 minutes\n",
    "xticks = np.arange(0, 90, 5)\n",
    "ax.set_ylim(0, 90000)\n",
    "ax.set_xticks(xticks)\n",
    "ax.set_xticklabels(xticks, rotation=90)\n",
    "\n",
    "\n",
    "# Add regions for short, medium, long, and crippling waiting times\n",
    "ax.axvspan(0, 5, alpha=0.3, color='green', label='Short')\n",
    "ax.axvspan(5, 10, alpha=0.3, color='yellow', label='Medium')\n",
    "ax.axvspan(10, 30, alpha=0.3, color='orange', label='Long')\n",
    "ax.axvspan(30, 90, alpha=0.3, color='red', label='Crippling')\n",
    "\n",
    "# Add labels inside the regions\n",
    "ax.text(1.75, ax.get_ylim()[1] * 0.95, 'Short', ha='center', va='center', color='black')\n",
    "ax.text(7.5, ax.get_ylim()[1] * 0.95, 'Medium', ha='center', va='center', color='black')\n",
    "ax.text(22.5, ax.get_ylim()[1] * 0.95, 'Long', ha='center', va='center', color='black')\n",
    "ax.text(37.5, ax.get_ylim()[1] * 0.95, 'Crippling', ha='center', va='center', color='black')\n",
    "\n",
    "# Set x-axis limit explicitly to remove gaps\n",
    "ax.set_xlim(-0.5, len(df_duration) - 0.5)\n",
    "\n",
    "plt.show()\n",
    "df_duration.head(1000)"
   ]
  },
  {
   "cell_type": "code",
   "execution_count": 171,
   "metadata": {},
   "outputs": [
    {
     "name": "stderr",
     "output_type": "stream",
     "text": [
      "C:\\Users\\ASuS\\AppData\\Local\\Temp\\ipykernel_9712\\775986200.py:11: SettingWithCopyWarning:\n",
      "\n",
      "\n",
      "A value is trying to be set on a copy of a slice from a DataFrame.\n",
      "Try using .loc[row_indexer,col_indexer] = value instead\n",
      "\n",
      "See the caveats in the documentation: https://pandas.pydata.org/pandas-docs/stable/user_guide/indexing.html#returning-a-view-versus-a-copy\n",
      "\n"
     ]
    },
    {
     "data": {
      "text/html": [
       "<div>\n",
       "<style scoped>\n",
       "    .dataframe tbody tr th:only-of-type {\n",
       "        vertical-align: middle;\n",
       "    }\n",
       "\n",
       "    .dataframe tbody tr th {\n",
       "        vertical-align: top;\n",
       "    }\n",
       "\n",
       "    .dataframe thead th {\n",
       "        text-align: right;\n",
       "    }\n",
       "</style>\n",
       "<table border=\"1\" class=\"dataframe\">\n",
       "  <thead>\n",
       "    <tr style=\"text-align: right;\">\n",
       "      <th></th>\n",
       "      <th>Route</th>\n",
       "      <th>count</th>\n",
       "    </tr>\n",
       "  </thead>\n",
       "  <tbody>\n",
       "    <tr>\n",
       "      <th>0</th>\n",
       "      <td>29.0</td>\n",
       "      <td>14523</td>\n",
       "    </tr>\n",
       "    <tr>\n",
       "      <th>1</th>\n",
       "      <td>52.0</td>\n",
       "      <td>13691</td>\n",
       "    </tr>\n",
       "    <tr>\n",
       "      <th>2</th>\n",
       "      <td>32.0</td>\n",
       "      <td>13419</td>\n",
       "    </tr>\n",
       "    <tr>\n",
       "      <th>3</th>\n",
       "      <td>36.0</td>\n",
       "      <td>12650</td>\n",
       "    </tr>\n",
       "    <tr>\n",
       "      <th>4</th>\n",
       "      <td>54.0</td>\n",
       "      <td>10931</td>\n",
       "    </tr>\n",
       "    <tr>\n",
       "      <th>5</th>\n",
       "      <td>53.0</td>\n",
       "      <td>10879</td>\n",
       "    </tr>\n",
       "    <tr>\n",
       "      <th>6</th>\n",
       "      <td>95.0</td>\n",
       "      <td>10423</td>\n",
       "    </tr>\n",
       "    <tr>\n",
       "      <th>7</th>\n",
       "      <td>60.0</td>\n",
       "      <td>10090</td>\n",
       "    </tr>\n",
       "    <tr>\n",
       "      <th>8</th>\n",
       "      <td>35.0</td>\n",
       "      <td>9847</td>\n",
       "    </tr>\n",
       "    <tr>\n",
       "      <th>9</th>\n",
       "      <td>102.0</td>\n",
       "      <td>9538</td>\n",
       "    </tr>\n",
       "    <tr>\n",
       "      <th>10</th>\n",
       "      <td>39.0</td>\n",
       "      <td>9168</td>\n",
       "    </tr>\n",
       "  </tbody>\n",
       "</table>\n",
       "</div>"
      ],
      "text/plain": [
       "    Route  count\n",
       "0    29.0  14523\n",
       "1    52.0  13691\n",
       "2    32.0  13419\n",
       "3    36.0  12650\n",
       "4    54.0  10931\n",
       "5    53.0  10879\n",
       "6    95.0  10423\n",
       "7    60.0  10090\n",
       "8    35.0   9847\n",
       "9   102.0   9538\n",
       "10   39.0   9168"
      ]
     },
     "execution_count": 171,
     "metadata": {},
     "output_type": "execute_result"
    }
   ],
   "source": [
    "df_bus_delay['Route'] = pd.to_numeric(df_bus_delay['Route'], errors='coerce')\n",
    "# Drop rows where 'Route' is NaN\n",
    "df_bus_delay.dropna(subset=['Route'], inplace=True)\n",
    "\n",
    "df_routes = df_bus_delay['Route'].value_counts().reset_index()\n",
    "df_routes = df_routes[df_routes['count']>100]\n",
    "df_routes = df_routes.sort_values(by='count',ascending=False)\n",
    "#df_routes.head()\n",
    "df_routes_top20=df_routes.head(21)\n",
    "\n",
    "df_routes_top20['Route'] = df_routes_top20['Route'].astype(str)  # Convert 'Route' to string\n",
    "df_routes_top20 = df_routes_top20.sort_values(by='count', ascending=False)  # Sort by count\n",
    "df_routes_top20.head(11)\n",
    "\n"
   ]
  },
  {
   "cell_type": "code",
   "execution_count": 210,
   "metadata": {},
   "outputs": [
    {
     "name": "stdout",
     "output_type": "stream",
     "text": [
      "['Investigation' 'Late Leaving Garage' 'Late Leaving Garage - Management'\n",
      " 'Cleaning' 'Late Leaving Garage - Operations' 'Late Entering Service'\n",
      " 'Cleaning - Unsanitary' 'Cleaning - Disinfection']\n"
     ]
    },
    {
     "data": {
      "application/vnd.plotly.v1+json": {
       "config": {
        "plotlyServerURL": "https://plot.ly"
       },
       "data": [
        {
         "customdata": [
          "Late Leaving Garage",
          "Investigation",
          "Cleaning",
          "Cleaning - Unsanitary",
          "Late Leaving Garage - Management",
          "Cleaning - Disinfection",
          "Late Entering Service",
          "Late Leaving Garage - Operations"
         ],
         "domain": {
          "x": [
           0,
           1
          ],
          "y": [
           0,
           1
          ]
         },
         "hole": 0.4,
         "hovertemplate": "%{label}: %{percent}<br>Count: %{value}<br>Custom Data: %{customdata}",
         "labels": [
          "Late Leaving Garage",
          "Investigation",
          "Cleaning",
          "Cleaning - Unsanitary",
          "Late Leaving Garage - Management",
          "Cleaning - Disinfection",
          "Late Entering Service",
          "Late Leaving Garage - Operations"
         ],
         "legendgroup": "",
         "marker": {
          "line": {
           "color": "black",
           "width": 2
          }
         },
         "name": "",
         "showlegend": true,
         "textinfo": "percent+label",
         "texttemplate": "",
         "type": "pie",
         "values": [
          59946,
          42725,
          8807,
          1925,
          252,
          79,
          59,
          3
         ]
        }
       ],
       "layout": {
        "font": {
         "family": "Arial",
         "size": 18
        },
        "height": 700,
        "legend": {
         "tracegroupgap": 0
        },
        "piecolorway": [
         "rgb(102,194,165)",
         "rgb(252,141,98)",
         "rgb(141,160,203)",
         "rgb(231,138,195)",
         "rgb(166,216,84)",
         "rgb(255,217,47)",
         "rgb(229,196,148)",
         "rgb(179,179,179)"
        ],
        "template": {
         "data": {
          "bar": [
           {
            "error_x": {
             "color": "#2a3f5f"
            },
            "error_y": {
             "color": "#2a3f5f"
            },
            "marker": {
             "line": {
              "color": "#E5ECF6",
              "width": 0.5
             },
             "pattern": {
              "fillmode": "overlay",
              "size": 10,
              "solidity": 0.2
             }
            },
            "type": "bar"
           }
          ],
          "barpolar": [
           {
            "marker": {
             "line": {
              "color": "#E5ECF6",
              "width": 0.5
             },
             "pattern": {
              "fillmode": "overlay",
              "size": 10,
              "solidity": 0.2
             }
            },
            "type": "barpolar"
           }
          ],
          "carpet": [
           {
            "aaxis": {
             "endlinecolor": "#2a3f5f",
             "gridcolor": "white",
             "linecolor": "white",
             "minorgridcolor": "white",
             "startlinecolor": "#2a3f5f"
            },
            "baxis": {
             "endlinecolor": "#2a3f5f",
             "gridcolor": "white",
             "linecolor": "white",
             "minorgridcolor": "white",
             "startlinecolor": "#2a3f5f"
            },
            "type": "carpet"
           }
          ],
          "choropleth": [
           {
            "colorbar": {
             "outlinewidth": 0,
             "ticks": ""
            },
            "type": "choropleth"
           }
          ],
          "contour": [
           {
            "colorbar": {
             "outlinewidth": 0,
             "ticks": ""
            },
            "colorscale": [
             [
              0,
              "#0d0887"
             ],
             [
              0.1111111111111111,
              "#46039f"
             ],
             [
              0.2222222222222222,
              "#7201a8"
             ],
             [
              0.3333333333333333,
              "#9c179e"
             ],
             [
              0.4444444444444444,
              "#bd3786"
             ],
             [
              0.5555555555555556,
              "#d8576b"
             ],
             [
              0.6666666666666666,
              "#ed7953"
             ],
             [
              0.7777777777777778,
              "#fb9f3a"
             ],
             [
              0.8888888888888888,
              "#fdca26"
             ],
             [
              1,
              "#f0f921"
             ]
            ],
            "type": "contour"
           }
          ],
          "contourcarpet": [
           {
            "colorbar": {
             "outlinewidth": 0,
             "ticks": ""
            },
            "type": "contourcarpet"
           }
          ],
          "heatmap": [
           {
            "colorbar": {
             "outlinewidth": 0,
             "ticks": ""
            },
            "colorscale": [
             [
              0,
              "#0d0887"
             ],
             [
              0.1111111111111111,
              "#46039f"
             ],
             [
              0.2222222222222222,
              "#7201a8"
             ],
             [
              0.3333333333333333,
              "#9c179e"
             ],
             [
              0.4444444444444444,
              "#bd3786"
             ],
             [
              0.5555555555555556,
              "#d8576b"
             ],
             [
              0.6666666666666666,
              "#ed7953"
             ],
             [
              0.7777777777777778,
              "#fb9f3a"
             ],
             [
              0.8888888888888888,
              "#fdca26"
             ],
             [
              1,
              "#f0f921"
             ]
            ],
            "type": "heatmap"
           }
          ],
          "heatmapgl": [
           {
            "colorbar": {
             "outlinewidth": 0,
             "ticks": ""
            },
            "colorscale": [
             [
              0,
              "#0d0887"
             ],
             [
              0.1111111111111111,
              "#46039f"
             ],
             [
              0.2222222222222222,
              "#7201a8"
             ],
             [
              0.3333333333333333,
              "#9c179e"
             ],
             [
              0.4444444444444444,
              "#bd3786"
             ],
             [
              0.5555555555555556,
              "#d8576b"
             ],
             [
              0.6666666666666666,
              "#ed7953"
             ],
             [
              0.7777777777777778,
              "#fb9f3a"
             ],
             [
              0.8888888888888888,
              "#fdca26"
             ],
             [
              1,
              "#f0f921"
             ]
            ],
            "type": "heatmapgl"
           }
          ],
          "histogram": [
           {
            "marker": {
             "pattern": {
              "fillmode": "overlay",
              "size": 10,
              "solidity": 0.2
             }
            },
            "type": "histogram"
           }
          ],
          "histogram2d": [
           {
            "colorbar": {
             "outlinewidth": 0,
             "ticks": ""
            },
            "colorscale": [
             [
              0,
              "#0d0887"
             ],
             [
              0.1111111111111111,
              "#46039f"
             ],
             [
              0.2222222222222222,
              "#7201a8"
             ],
             [
              0.3333333333333333,
              "#9c179e"
             ],
             [
              0.4444444444444444,
              "#bd3786"
             ],
             [
              0.5555555555555556,
              "#d8576b"
             ],
             [
              0.6666666666666666,
              "#ed7953"
             ],
             [
              0.7777777777777778,
              "#fb9f3a"
             ],
             [
              0.8888888888888888,
              "#fdca26"
             ],
             [
              1,
              "#f0f921"
             ]
            ],
            "type": "histogram2d"
           }
          ],
          "histogram2dcontour": [
           {
            "colorbar": {
             "outlinewidth": 0,
             "ticks": ""
            },
            "colorscale": [
             [
              0,
              "#0d0887"
             ],
             [
              0.1111111111111111,
              "#46039f"
             ],
             [
              0.2222222222222222,
              "#7201a8"
             ],
             [
              0.3333333333333333,
              "#9c179e"
             ],
             [
              0.4444444444444444,
              "#bd3786"
             ],
             [
              0.5555555555555556,
              "#d8576b"
             ],
             [
              0.6666666666666666,
              "#ed7953"
             ],
             [
              0.7777777777777778,
              "#fb9f3a"
             ],
             [
              0.8888888888888888,
              "#fdca26"
             ],
             [
              1,
              "#f0f921"
             ]
            ],
            "type": "histogram2dcontour"
           }
          ],
          "mesh3d": [
           {
            "colorbar": {
             "outlinewidth": 0,
             "ticks": ""
            },
            "type": "mesh3d"
           }
          ],
          "parcoords": [
           {
            "line": {
             "colorbar": {
              "outlinewidth": 0,
              "ticks": ""
             }
            },
            "type": "parcoords"
           }
          ],
          "pie": [
           {
            "automargin": true,
            "type": "pie"
           }
          ],
          "scatter": [
           {
            "fillpattern": {
             "fillmode": "overlay",
             "size": 10,
             "solidity": 0.2
            },
            "type": "scatter"
           }
          ],
          "scatter3d": [
           {
            "line": {
             "colorbar": {
              "outlinewidth": 0,
              "ticks": ""
             }
            },
            "marker": {
             "colorbar": {
              "outlinewidth": 0,
              "ticks": ""
             }
            },
            "type": "scatter3d"
           }
          ],
          "scattercarpet": [
           {
            "marker": {
             "colorbar": {
              "outlinewidth": 0,
              "ticks": ""
             }
            },
            "type": "scattercarpet"
           }
          ],
          "scattergeo": [
           {
            "marker": {
             "colorbar": {
              "outlinewidth": 0,
              "ticks": ""
             }
            },
            "type": "scattergeo"
           }
          ],
          "scattergl": [
           {
            "marker": {
             "colorbar": {
              "outlinewidth": 0,
              "ticks": ""
             }
            },
            "type": "scattergl"
           }
          ],
          "scattermapbox": [
           {
            "marker": {
             "colorbar": {
              "outlinewidth": 0,
              "ticks": ""
             }
            },
            "type": "scattermapbox"
           }
          ],
          "scatterpolar": [
           {
            "marker": {
             "colorbar": {
              "outlinewidth": 0,
              "ticks": ""
             }
            },
            "type": "scatterpolar"
           }
          ],
          "scatterpolargl": [
           {
            "marker": {
             "colorbar": {
              "outlinewidth": 0,
              "ticks": ""
             }
            },
            "type": "scatterpolargl"
           }
          ],
          "scatterternary": [
           {
            "marker": {
             "colorbar": {
              "outlinewidth": 0,
              "ticks": ""
             }
            },
            "type": "scatterternary"
           }
          ],
          "surface": [
           {
            "colorbar": {
             "outlinewidth": 0,
             "ticks": ""
            },
            "colorscale": [
             [
              0,
              "#0d0887"
             ],
             [
              0.1111111111111111,
              "#46039f"
             ],
             [
              0.2222222222222222,
              "#7201a8"
             ],
             [
              0.3333333333333333,
              "#9c179e"
             ],
             [
              0.4444444444444444,
              "#bd3786"
             ],
             [
              0.5555555555555556,
              "#d8576b"
             ],
             [
              0.6666666666666666,
              "#ed7953"
             ],
             [
              0.7777777777777778,
              "#fb9f3a"
             ],
             [
              0.8888888888888888,
              "#fdca26"
             ],
             [
              1,
              "#f0f921"
             ]
            ],
            "type": "surface"
           }
          ],
          "table": [
           {
            "cells": {
             "fill": {
              "color": "#EBF0F8"
             },
             "line": {
              "color": "white"
             }
            },
            "header": {
             "fill": {
              "color": "#C8D4E3"
             },
             "line": {
              "color": "white"
             }
            },
            "type": "table"
           }
          ]
         },
         "layout": {
          "annotationdefaults": {
           "arrowcolor": "#2a3f5f",
           "arrowhead": 0,
           "arrowwidth": 1
          },
          "autotypenumbers": "strict",
          "coloraxis": {
           "colorbar": {
            "outlinewidth": 0,
            "ticks": ""
           }
          },
          "colorscale": {
           "diverging": [
            [
             0,
             "#8e0152"
            ],
            [
             0.1,
             "#c51b7d"
            ],
            [
             0.2,
             "#de77ae"
            ],
            [
             0.3,
             "#f1b6da"
            ],
            [
             0.4,
             "#fde0ef"
            ],
            [
             0.5,
             "#f7f7f7"
            ],
            [
             0.6,
             "#e6f5d0"
            ],
            [
             0.7,
             "#b8e186"
            ],
            [
             0.8,
             "#7fbc41"
            ],
            [
             0.9,
             "#4d9221"
            ],
            [
             1,
             "#276419"
            ]
           ],
           "sequential": [
            [
             0,
             "#0d0887"
            ],
            [
             0.1111111111111111,
             "#46039f"
            ],
            [
             0.2222222222222222,
             "#7201a8"
            ],
            [
             0.3333333333333333,
             "#9c179e"
            ],
            [
             0.4444444444444444,
             "#bd3786"
            ],
            [
             0.5555555555555556,
             "#d8576b"
            ],
            [
             0.6666666666666666,
             "#ed7953"
            ],
            [
             0.7777777777777778,
             "#fb9f3a"
            ],
            [
             0.8888888888888888,
             "#fdca26"
            ],
            [
             1,
             "#f0f921"
            ]
           ],
           "sequentialminus": [
            [
             0,
             "#0d0887"
            ],
            [
             0.1111111111111111,
             "#46039f"
            ],
            [
             0.2222222222222222,
             "#7201a8"
            ],
            [
             0.3333333333333333,
             "#9c179e"
            ],
            [
             0.4444444444444444,
             "#bd3786"
            ],
            [
             0.5555555555555556,
             "#d8576b"
            ],
            [
             0.6666666666666666,
             "#ed7953"
            ],
            [
             0.7777777777777778,
             "#fb9f3a"
            ],
            [
             0.8888888888888888,
             "#fdca26"
            ],
            [
             1,
             "#f0f921"
            ]
           ]
          },
          "colorway": [
           "#636efa",
           "#EF553B",
           "#00cc96",
           "#ab63fa",
           "#FFA15A",
           "#19d3f3",
           "#FF6692",
           "#B6E880",
           "#FF97FF",
           "#FECB52"
          ],
          "font": {
           "color": "#2a3f5f"
          },
          "geo": {
           "bgcolor": "white",
           "lakecolor": "white",
           "landcolor": "#E5ECF6",
           "showlakes": true,
           "showland": true,
           "subunitcolor": "white"
          },
          "hoverlabel": {
           "align": "left"
          },
          "hovermode": "closest",
          "mapbox": {
           "style": "light"
          },
          "paper_bgcolor": "white",
          "plot_bgcolor": "#E5ECF6",
          "polar": {
           "angularaxis": {
            "gridcolor": "white",
            "linecolor": "white",
            "ticks": ""
           },
           "bgcolor": "#E5ECF6",
           "radialaxis": {
            "gridcolor": "white",
            "linecolor": "white",
            "ticks": ""
           }
          },
          "scene": {
           "xaxis": {
            "backgroundcolor": "#E5ECF6",
            "gridcolor": "white",
            "gridwidth": 2,
            "linecolor": "white",
            "showbackground": true,
            "ticks": "",
            "zerolinecolor": "white"
           },
           "yaxis": {
            "backgroundcolor": "#E5ECF6",
            "gridcolor": "white",
            "gridwidth": 2,
            "linecolor": "white",
            "showbackground": true,
            "ticks": "",
            "zerolinecolor": "white"
           },
           "zaxis": {
            "backgroundcolor": "#E5ECF6",
            "gridcolor": "white",
            "gridwidth": 2,
            "linecolor": "white",
            "showbackground": true,
            "ticks": "",
            "zerolinecolor": "white"
           }
          },
          "shapedefaults": {
           "line": {
            "color": "#2a3f5f"
           }
          },
          "ternary": {
           "aaxis": {
            "gridcolor": "white",
            "linecolor": "white",
            "ticks": ""
           },
           "baxis": {
            "gridcolor": "white",
            "linecolor": "white",
            "ticks": ""
           },
           "bgcolor": "#E5ECF6",
           "caxis": {
            "gridcolor": "white",
            "linecolor": "white",
            "ticks": ""
           }
          },
          "title": {
           "x": 0.05
          },
          "xaxis": {
           "automargin": true,
           "gridcolor": "white",
           "linecolor": "white",
           "ticks": "",
           "title": {
            "standoff": 15
           },
           "zerolinecolor": "white",
           "zerolinewidth": 2
          },
          "yaxis": {
           "automargin": true,
           "gridcolor": "white",
           "linecolor": "white",
           "ticks": "",
           "title": {
            "standoff": 15
           },
           "zerolinecolor": "white",
           "zerolinewidth": 2
          }
         }
        },
        "title": {
         "text": "Frequency of Incidents"
        },
        "width": 1200
       }
      }
     },
     "metadata": {},
     "output_type": "display_data"
    }
   ],
   "source": [
    "\n",
    "list_avoidable = ['Late Leaving Garage','Cleaning','Late Entering Service','Cleaning - Unsanitary','Cleaning - Disinfection', 'Late Leaving Garage - Operations','Late Leaving Garage - Management','Investigation']\n",
    "df_delays_avoidable=df_bus_delay[df_bus_delay['Incident'].isin(list_avoidable)]\n",
    "df_delays_avoidable.head()\n",
    "print(df_delays_avoidable['Incident'].unique())\n",
    "\n",
    "# Count the frequency of each incident\n",
    "df_delays_avoidable_count = df_delays_avoidable['Incident'].value_counts().reset_index()\n",
    "df_delays_avoidable_count.head()\n",
    "# Create a doughnut chart using plotly\n",
    "fig = px.pie(df_delays_avoidable_count, names='Incident', values='count', title='Frequency of Incidents', hole=0.4, width=1200, height=700,\n",
    "             color_discrete_sequence=px.colors.qualitative.Set2\n",
    "             )\n",
    "\n",
    "# Manually add text labels with both percent and label\n",
    "fig.update_traces(textinfo='percent+label', \n",
    "                  customdata=df_delays_avoidable_count['Incident'],\n",
    "                  hovertemplate='%{label}: %{percent}<br>Count: %{value}<br>Custom Data: %{customdata}'\n",
    "                 )\n",
    "\n",
    "# Customize the text font\n",
    "fig.update_layout(font=dict(family='Arial', size=18))\n",
    "\n",
    "fig.update_traces(\n",
    "    texttemplate='',  # Set the text template to an empty string to hide percentages\n",
    "    marker=dict(line=dict(color='black', width=2))  # Add borders to the pie chart\n",
    ")\n",
    "\n",
    "# Show the plot\n",
    "fig.show()"
   ]
  },
  {
   "cell_type": "code",
   "execution_count": 125,
   "metadata": {},
   "outputs": [
    {
     "data": {
      "text/html": [
       "<div>\n",
       "<style scoped>\n",
       "    .dataframe tbody tr th:only-of-type {\n",
       "        vertical-align: middle;\n",
       "    }\n",
       "\n",
       "    .dataframe tbody tr th {\n",
       "        vertical-align: top;\n",
       "    }\n",
       "\n",
       "    .dataframe thead th {\n",
       "        text-align: right;\n",
       "    }\n",
       "</style>\n",
       "<table border=\"1\" class=\"dataframe\">\n",
       "  <thead>\n",
       "    <tr style=\"text-align: right;\">\n",
       "      <th></th>\n",
       "      <th>Unnamed: 0</th>\n",
       "      <th>Route</th>\n",
       "      <th>Day</th>\n",
       "      <th>Location</th>\n",
       "      <th>Incident</th>\n",
       "      <th>Min Delay</th>\n",
       "      <th>Min Gap</th>\n",
       "      <th>Vehicle</th>\n",
       "      <th>DateTime</th>\n",
       "      <th>copy</th>\n",
       "      <th>analysis</th>\n",
       "      <th>just_date</th>\n",
       "      <th>Delay Type</th>\n",
       "    </tr>\n",
       "  </thead>\n",
       "  <tbody>\n",
       "    <tr>\n",
       "      <th>0</th>\n",
       "      <td>0</td>\n",
       "      <td>95.0</td>\n",
       "      <td>Wednesday</td>\n",
       "      <td>York Mills station</td>\n",
       "      <td>Mechanical</td>\n",
       "      <td>10.0</td>\n",
       "      <td>20.0</td>\n",
       "      <td>1734.0</td>\n",
       "      <td>2014-01-01 00:23:00</td>\n",
       "      <td>yorkmillsstation</td>\n",
       "      <td>yorkmillsstation</td>\n",
       "      <td>2014-01-01</td>\n",
       "      <td>long</td>\n",
       "    </tr>\n",
       "    <tr>\n",
       "      <th>1</th>\n",
       "      <td>1</td>\n",
       "      <td>102.0</td>\n",
       "      <td>Wednesday</td>\n",
       "      <td>Entire run for route</td>\n",
       "      <td>General Delay</td>\n",
       "      <td>33.0</td>\n",
       "      <td>66.0</td>\n",
       "      <td>8110.0</td>\n",
       "      <td>2014-01-01 00:55:00</td>\n",
       "      <td>entirerunforroute</td>\n",
       "      <td>entirerunforroute</td>\n",
       "      <td>2014-01-01</td>\n",
       "      <td>crippling</td>\n",
       "    </tr>\n",
       "    <tr>\n",
       "      <th>2</th>\n",
       "      <td>2</td>\n",
       "      <td>54.0</td>\n",
       "      <td>Wednesday</td>\n",
       "      <td>lawrence and Warden</td>\n",
       "      <td>Mechanical</td>\n",
       "      <td>10.0</td>\n",
       "      <td>20.0</td>\n",
       "      <td>7478.0</td>\n",
       "      <td>2014-01-01 01:28:00</td>\n",
       "      <td>lawrence&amp;warden</td>\n",
       "      <td>warden</td>\n",
       "      <td>2014-01-01</td>\n",
       "      <td>long</td>\n",
       "    </tr>\n",
       "    <tr>\n",
       "      <th>3</th>\n",
       "      <td>3</td>\n",
       "      <td>112.0</td>\n",
       "      <td>Wednesday</td>\n",
       "      <td>Kipling Station</td>\n",
       "      <td>Emergency Services</td>\n",
       "      <td>18.0</td>\n",
       "      <td>36.0</td>\n",
       "      <td>8084.0</td>\n",
       "      <td>2014-01-01 01:30:00</td>\n",
       "      <td>kiplingstation</td>\n",
       "      <td>kiplingstation</td>\n",
       "      <td>2014-01-01</td>\n",
       "      <td>long</td>\n",
       "    </tr>\n",
       "    <tr>\n",
       "      <th>4</th>\n",
       "      <td>4</td>\n",
       "      <td>24.0</td>\n",
       "      <td>Wednesday</td>\n",
       "      <td>VP and Ellesmere</td>\n",
       "      <td>Investigation</td>\n",
       "      <td>10.0</td>\n",
       "      <td>20.0</td>\n",
       "      <td>7843.0</td>\n",
       "      <td>2014-01-01 01:37:00</td>\n",
       "      <td>ellesmere&amp;victoriapark</td>\n",
       "      <td>ellesmere&amp;victoriapark</td>\n",
       "      <td>2014-01-01</td>\n",
       "      <td>long</td>\n",
       "    </tr>\n",
       "  </tbody>\n",
       "</table>\n",
       "</div>"
      ],
      "text/plain": [
       "   Unnamed: 0  Route        Day              Location            Incident  \\\n",
       "0           0   95.0  Wednesday    York Mills station          Mechanical   \n",
       "1           1  102.0  Wednesday  Entire run for route       General Delay   \n",
       "2           2   54.0  Wednesday   lawrence and Warden          Mechanical   \n",
       "3           3  112.0  Wednesday       Kipling Station  Emergency Services   \n",
       "4           4   24.0  Wednesday      VP and Ellesmere       Investigation   \n",
       "\n",
       "   Min Delay  Min Gap  Vehicle            DateTime                    copy  \\\n",
       "0       10.0     20.0   1734.0 2014-01-01 00:23:00        yorkmillsstation   \n",
       "1       33.0     66.0   8110.0 2014-01-01 00:55:00       entirerunforroute   \n",
       "2       10.0     20.0   7478.0 2014-01-01 01:28:00         lawrence&warden   \n",
       "3       18.0     36.0   8084.0 2014-01-01 01:30:00          kiplingstation   \n",
       "4       10.0     20.0   7843.0 2014-01-01 01:37:00  ellesmere&victoriapark   \n",
       "\n",
       "                 analysis   just_date Delay Type  \n",
       "0        yorkmillsstation  2014-01-01       long  \n",
       "1       entirerunforroute  2014-01-01  crippling  \n",
       "2                  warden  2014-01-01       long  \n",
       "3          kiplingstation  2014-01-01       long  \n",
       "4  ellesmere&victoriapark  2014-01-01       long  "
      ]
     },
     "execution_count": 125,
     "metadata": {},
     "output_type": "execute_result"
    }
   ],
   "source": [
    "# Define the bins and labels for different delay types\n",
    "bins = [0, 5, 10, 30, float('inf')]  # bin edges\n",
    "labels = ['short', 'medium', 'long', 'crippling']\n",
    "\n",
    "# Create the 'Delay Type' column using pd.cut\n",
    "df_bus_delay['Delay Type'] = pd.cut(df_bus_delay['Min Delay'], bins=bins, labels=labels, right=False)\n",
    "df_bus_delay.head()"
   ]
  },
  {
   "cell_type": "code",
   "execution_count": 199,
   "metadata": {},
   "outputs": [
    {
     "data": {
      "text/html": [
       "<div>\n",
       "<style scoped>\n",
       "    .dataframe tbody tr th:only-of-type {\n",
       "        vertical-align: middle;\n",
       "    }\n",
       "\n",
       "    .dataframe tbody tr th {\n",
       "        vertical-align: top;\n",
       "    }\n",
       "\n",
       "    .dataframe thead th {\n",
       "        text-align: right;\n",
       "    }\n",
       "</style>\n",
       "<table border=\"1\" class=\"dataframe\">\n",
       "  <thead>\n",
       "    <tr style=\"text-align: right;\">\n",
       "      <th></th>\n",
       "      <th>Day</th>\n",
       "      <th>mean_short</th>\n",
       "      <th>mean_medium</th>\n",
       "      <th>mean_long</th>\n",
       "      <th>mean_crippling</th>\n",
       "      <th>count_short</th>\n",
       "      <th>count_medium</th>\n",
       "      <th>count_long</th>\n",
       "      <th>count_crippling</th>\n",
       "      <th>mean_min_delay</th>\n",
       "      <th>count_min_delay</th>\n",
       "    </tr>\n",
       "  </thead>\n",
       "  <tbody>\n",
       "    <tr>\n",
       "      <th>1</th>\n",
       "      <td>Monday</td>\n",
       "      <td>3.429051</td>\n",
       "      <td>7.027482</td>\n",
       "      <td>14.545234</td>\n",
       "      <td>37.755720</td>\n",
       "      <td>5060</td>\n",
       "      <td>24416</td>\n",
       "      <td>40876</td>\n",
       "      <td>4589</td>\n",
       "      <td>12.766656</td>\n",
       "      <td>74941</td>\n",
       "    </tr>\n",
       "    <tr>\n",
       "      <th>5</th>\n",
       "      <td>Tuesday</td>\n",
       "      <td>3.423295</td>\n",
       "      <td>7.000836</td>\n",
       "      <td>14.605151</td>\n",
       "      <td>37.856333</td>\n",
       "      <td>5821</td>\n",
       "      <td>27498</td>\n",
       "      <td>45078</td>\n",
       "      <td>4761</td>\n",
       "      <td>12.639085</td>\n",
       "      <td>83158</td>\n",
       "    </tr>\n",
       "    <tr>\n",
       "      <th>6</th>\n",
       "      <td>Wednesday</td>\n",
       "      <td>3.391547</td>\n",
       "      <td>7.010679</td>\n",
       "      <td>14.677534</td>\n",
       "      <td>38.483248</td>\n",
       "      <td>5726</td>\n",
       "      <td>27250</td>\n",
       "      <td>46256</td>\n",
       "      <td>4865</td>\n",
       "      <td>12.801955</td>\n",
       "      <td>84097</td>\n",
       "    </tr>\n",
       "    <tr>\n",
       "      <th>4</th>\n",
       "      <td>Thursday</td>\n",
       "      <td>3.433479</td>\n",
       "      <td>7.029548</td>\n",
       "      <td>14.721897</td>\n",
       "      <td>37.918824</td>\n",
       "      <td>5705</td>\n",
       "      <td>26905</td>\n",
       "      <td>46756</td>\n",
       "      <td>5137</td>\n",
       "      <td>12.920772</td>\n",
       "      <td>84503</td>\n",
       "    </tr>\n",
       "    <tr>\n",
       "      <th>0</th>\n",
       "      <td>Friday</td>\n",
       "      <td>3.433292</td>\n",
       "      <td>7.028519</td>\n",
       "      <td>14.645369</td>\n",
       "      <td>38.142171</td>\n",
       "      <td>5599</td>\n",
       "      <td>26509</td>\n",
       "      <td>46265</td>\n",
       "      <td>5205</td>\n",
       "      <td>12.941683</td>\n",
       "      <td>83578</td>\n",
       "    </tr>\n",
       "    <tr>\n",
       "      <th>2</th>\n",
       "      <td>Saturday</td>\n",
       "      <td>3.354253</td>\n",
       "      <td>7.312982</td>\n",
       "      <td>14.821397</td>\n",
       "      <td>36.984769</td>\n",
       "      <td>1928</td>\n",
       "      <td>13496</td>\n",
       "      <td>30593</td>\n",
       "      <td>5121</td>\n",
       "      <td>14.626951</td>\n",
       "      <td>51138</td>\n",
       "    </tr>\n",
       "    <tr>\n",
       "      <th>3</th>\n",
       "      <td>Sunday</td>\n",
       "      <td>3.459908</td>\n",
       "      <td>7.353191</td>\n",
       "      <td>14.805511</td>\n",
       "      <td>35.980792</td>\n",
       "      <td>1746</td>\n",
       "      <td>9165</td>\n",
       "      <td>26238</td>\n",
       "      <td>5154</td>\n",
       "      <td>15.302579</td>\n",
       "      <td>42303</td>\n",
       "    </tr>\n",
       "  </tbody>\n",
       "</table>\n",
       "</div>"
      ],
      "text/plain": [
       "         Day  mean_short  mean_medium  mean_long  mean_crippling  count_short  \\\n",
       "1     Monday    3.429051     7.027482  14.545234       37.755720         5060   \n",
       "5    Tuesday    3.423295     7.000836  14.605151       37.856333         5821   \n",
       "6  Wednesday    3.391547     7.010679  14.677534       38.483248         5726   \n",
       "4   Thursday    3.433479     7.029548  14.721897       37.918824         5705   \n",
       "0     Friday    3.433292     7.028519  14.645369       38.142171         5599   \n",
       "2   Saturday    3.354253     7.312982  14.821397       36.984769         1928   \n",
       "3     Sunday    3.459908     7.353191  14.805511       35.980792         1746   \n",
       "\n",
       "   count_medium  count_long  count_crippling  mean_min_delay  count_min_delay  \n",
       "1         24416       40876             4589       12.766656            74941  \n",
       "5         27498       45078             4761       12.639085            83158  \n",
       "6         27250       46256             4865       12.801955            84097  \n",
       "4         26905       46756             5137       12.920772            84503  \n",
       "0         26509       46265             5205       12.941683            83578  \n",
       "2         13496       30593             5121       14.626951            51138  \n",
       "3          9165       26238             5154       15.302579            42303  "
      ]
     },
     "execution_count": 199,
     "metadata": {},
     "output_type": "execute_result"
    }
   ],
   "source": [
    "# Define the bins and labels for different delay types\n",
    "bins = [0, 5, 10, 30, float('inf')]\n",
    "labels = ['short', 'medium', 'long', 'crippling']\n",
    "\n",
    "# Create the 'Delay Type' column using pd.cut\n",
    "df_bus_delay['Delay Type'] = pd.cut(df_bus_delay['Min Delay'], bins=bins, labels=labels, right=False)\n",
    "\n",
    "# Group by 'Day' and 'Delay Type', and aggregate 'Min Delay' with mean and count\n",
    "df_weekday_data_1 = df_bus_delay.groupby(['Day', 'Delay Type'])['Min Delay'].agg(['mean', 'count']).unstack('Delay Type').reset_index()\n",
    "\n",
    "# Flatten the multi-level column index and reset column names\n",
    "df_weekday_data_1.columns = [f\"{col[0]}_{col[1]}\" if col[1] else col[0] for col in df_weekday_data_1.columns]\n",
    "\n",
    "df_weekday_data_2 = df_bus_delay.groupby('Day')['Min Delay'].agg(mean_min_delay='mean', count_min_delay='count').reset_index()\n",
    "\n",
    "df_weekday_data= pd.merge(df_weekday_data_1, df_weekday_data_2, on='Day')\n",
    "\n",
    "# Define the order of days of the week\n",
    "day_order = ['Monday', 'Tuesday', 'Wednesday', 'Thursday', 'Friday', 'Saturday', 'Sunday']\n",
    "\n",
    "# Convert 'Day' column to Categorical with the specified order\n",
    "df_weekday_data['Day'] = pd.Categorical(df_weekday_data['Day'], categories=day_order, ordered=True)\n",
    "\n",
    "# Sort the DataFrame based on the 'Day' column\n",
    "df_weekday_data = df_weekday_data.sort_values(by='Day')\n",
    "\n",
    "df_weekday_data.head(10)"
   ]
  },
  {
   "cell_type": "code",
   "execution_count": 211,
   "metadata": {},
   "outputs": [
    {
     "data": {
      "image/png": "[encoded data removed]",
      "text/plain": [
       "<Figure size 1000x600 with 1 Axes>"
      ]
     },
     "metadata": {},
     "output_type": "display_data"
    }
   ],
   "source": [
    "# Plotting\n",
    "fig, ax = plt.subplots(figsize=(10, 6))\n",
    "\n",
    "# Bar plot for counts of short, medium, long, crippling with adjusted x positions\n",
    "bar_width = 0.5  # Adjust the width as needed\n",
    "bar_positions = np.arange(1, len(df_weekday_data) + 1)\n",
    "\n",
    "# Bar plot for counts of short, medium, long, crippling\n",
    "ax.bar(bar_positions , df_weekday_data['count_short'], width=bar_width, label='Short', edgecolor='black')\n",
    "ax.bar(bar_positions, df_weekday_data['count_medium'], bottom=df_weekday_data['count_short'], width=bar_width, label='Medium', edgecolor='black')\n",
    "ax.bar(bar_positions, df_weekday_data['count_long'], bottom=df_weekday_data['count_short'] + df_weekday_data['count_medium'], width=bar_width, label='Long', edgecolor='black')\n",
    "ax.bar(bar_positions, df_weekday_data['count_crippling'], bottom=df_weekday_data['count_short'] + df_weekday_data['count_medium'] + df_weekday_data['count_long'], width=bar_width, label='Crippling', edgecolor='black')\n",
    "\n",
    "# Customize the plot\n",
    "ax.set_ylabel('Number of Delays')\n",
    "ax.set_title('Number of Delays by Category for Each Day')\n",
    "ax.set_xticks(bar_positions)\n",
    "ax.set_xticklabels(df_weekday_data['Day'])\n",
    "ax.legend(bbox_to_anchor=(1.05, 1), loc='upper left')  # Move legend outside of the chart border\n",
    "\n",
    "plt.tight_layout()  # Adjust layout to prevent clipping\n",
    "plt.show()"
   ]
  },
  {
   "cell_type": "code",
   "execution_count": 203,
   "metadata": {},
   "outputs": [
    {
     "data": {
      "text/html": [
       "<div>\n",
       "<style scoped>\n",
       "    .dataframe tbody tr th:only-of-type {\n",
       "        vertical-align: middle;\n",
       "    }\n",
       "\n",
       "    .dataframe tbody tr th {\n",
       "        vertical-align: top;\n",
       "    }\n",
       "\n",
       "    .dataframe thead th {\n",
       "        text-align: right;\n",
       "    }\n",
       "</style>\n",
       "<table border=\"1\" class=\"dataframe\">\n",
       "  <thead>\n",
       "    <tr style=\"text-align: right;\">\n",
       "      <th></th>\n",
       "      <th>Route</th>\n",
       "      <th>mean_short</th>\n",
       "      <th>mean_medium</th>\n",
       "      <th>mean_long</th>\n",
       "      <th>mean_crippling</th>\n",
       "      <th>count_short</th>\n",
       "      <th>count_medium</th>\n",
       "      <th>count_long</th>\n",
       "      <th>count_crippling</th>\n",
       "      <th>mean_min_delay</th>\n",
       "      <th>count_min_delay</th>\n",
       "    </tr>\n",
       "  </thead>\n",
       "  <tbody>\n",
       "    <tr>\n",
       "      <th>28</th>\n",
       "      <td>29.0</td>\n",
       "      <td>3.487784</td>\n",
       "      <td>6.766607</td>\n",
       "      <td>12.951785</td>\n",
       "      <td>41.410638</td>\n",
       "      <td>4625</td>\n",
       "      <td>7271</td>\n",
       "      <td>2157</td>\n",
       "      <td>470</td>\n",
       "      <td>7.762239</td>\n",
       "      <td>14523</td>\n",
       "    </tr>\n",
       "    <tr>\n",
       "      <th>51</th>\n",
       "      <td>52.0</td>\n",
       "      <td>3.229219</td>\n",
       "      <td>6.832900</td>\n",
       "      <td>15.519300</td>\n",
       "      <td>41.051502</td>\n",
       "      <td>397</td>\n",
       "      <td>1921</td>\n",
       "      <td>10907</td>\n",
       "      <td>466</td>\n",
       "      <td>14.813162</td>\n",
       "      <td>13691</td>\n",
       "    </tr>\n",
       "    <tr>\n",
       "      <th>31</th>\n",
       "      <td>32.0</td>\n",
       "      <td>3.337607</td>\n",
       "      <td>7.014795</td>\n",
       "      <td>12.349062</td>\n",
       "      <td>37.815141</td>\n",
       "      <td>234</td>\n",
       "      <td>5475</td>\n",
       "      <td>7142</td>\n",
       "      <td>568</td>\n",
       "      <td>11.093450</td>\n",
       "      <td>13419</td>\n",
       "    </tr>\n",
       "    <tr>\n",
       "      <th>35</th>\n",
       "      <td>36.0</td>\n",
       "      <td>3.798013</td>\n",
       "      <td>5.914915</td>\n",
       "      <td>14.403602</td>\n",
       "      <td>44.485531</td>\n",
       "      <td>1208</td>\n",
       "      <td>8133</td>\n",
       "      <td>2998</td>\n",
       "      <td>311</td>\n",
       "      <td>8.672806</td>\n",
       "      <td>12650</td>\n",
       "    </tr>\n",
       "    <tr>\n",
       "      <th>53</th>\n",
       "      <td>54.0</td>\n",
       "      <td>3.743590</td>\n",
       "      <td>7.089709</td>\n",
       "      <td>13.679036</td>\n",
       "      <td>40.962594</td>\n",
       "      <td>273</td>\n",
       "      <td>2954</td>\n",
       "      <td>7303</td>\n",
       "      <td>401</td>\n",
       "      <td>12.651084</td>\n",
       "      <td>10931</td>\n",
       "    </tr>\n",
       "  </tbody>\n",
       "</table>\n",
       "</div>"
      ],
      "text/plain": [
       "    Route  mean_short  mean_medium  mean_long  mean_crippling  count_short  \\\n",
       "28   29.0    3.487784     6.766607  12.951785       41.410638         4625   \n",
       "51   52.0    3.229219     6.832900  15.519300       41.051502          397   \n",
       "31   32.0    3.337607     7.014795  12.349062       37.815141          234   \n",
       "35   36.0    3.798013     5.914915  14.403602       44.485531         1208   \n",
       "53   54.0    3.743590     7.089709  13.679036       40.962594          273   \n",
       "\n",
       "    count_medium  count_long  count_crippling  mean_min_delay  count_min_delay  \n",
       "28          7271        2157              470        7.762239            14523  \n",
       "51          1921       10907              466       14.813162            13691  \n",
       "31          5475        7142              568       11.093450            13419  \n",
       "35          8133        2998              311        8.672806            12650  \n",
       "53          2954        7303              401       12.651084            10931  "
      ]
     },
     "execution_count": 203,
     "metadata": {},
     "output_type": "execute_result"
    }
   ],
   "source": [
    "# Group by 'Route' and 'Delay Type', and aggregate 'Min Delay' with mean and count\n",
    "df_routes_1 = df_bus_delay.groupby(['Route', 'Delay Type'])['Min Delay'].agg(['mean', 'count']).unstack('Delay Type').reset_index()\n",
    "# Flatten the multi-level column index and reset column names\n",
    "df_routes_1.columns = [f\"{col[0]}_{col[1]}\" if col[1] else col[0] for col in df_routes_1.columns]\n",
    "\n",
    "df_routes_2 = df_bus_delay.groupby('Route')['Min Delay'].agg(mean_min_delay='mean', count_min_delay='count').reset_index()\n",
    "\n",
    "df_routes= pd.merge(df_routes_1, df_routes_2, on='Route')\n",
    "\n",
    "# Sort the DataFrame based on the 'count_min_delay' column\n",
    "df_routes = df_routes.sort_values(by='count_min_delay',ascending=False )\n",
    "df_routes_top20=df_routes.head(20)\n",
    "df_routes_top20.head()"
   ]
  },
  {
   "cell_type": "code",
   "execution_count": 212,
   "metadata": {},
   "outputs": [
    {
     "data": {
      "image/png": "[encoded data removed]",
      "text/plain": [
       "<Figure size 1200x600 with 1 Axes>"
      ]
     },
     "metadata": {},
     "output_type": "display_data"
    }
   ],
   "source": [
    "# Plotting\n",
    "fig, ax = plt.subplots(figsize=(12, 6))\n",
    "\n",
    "# Bar plot for counts of short, medium, long, crippling with adjusted x positions\n",
    "bar_width = 0.5  # Adjust the width as needed\n",
    "bar_positions = np.arange(1, len(df_routes_top20) + 1)\n",
    "\n",
    "# Bar plot for counts of short, medium, long, crippling\n",
    "ax.bar(bar_positions , df_routes_top20['count_short'], width=bar_width, label='Short', edgecolor='black')\n",
    "ax.bar(bar_positions, df_routes_top20['count_medium'], bottom=df_routes_top20['count_short'], width=bar_width, label='Medium',edgecolor='black')\n",
    "ax.bar(bar_positions, df_routes_top20['count_long'], bottom=df_routes_top20['count_short'] + df_routes_top20['count_medium'], width=bar_width, label='Long',edgecolor='black')\n",
    "ax.bar(bar_positions, df_routes_top20['count_crippling'], bottom=df_routes_top20['count_short'] + df_routes_top20['count_medium'] + df_routes_top20['count_long'], width=bar_width, label='Crippling',edgecolor='black')\n",
    "\n",
    "# Customize the plot\n",
    "ax.set_ylabel('Number of Delays')\n",
    "ax.set_xlabel('Route Number')\n",
    "ax.set_title('Number of Delays by Category for Top 20 Routes')\n",
    "ax.set_xticks(bar_positions)\n",
    "ax.set_xticklabels(df_routes_top20['Route'])\n",
    "ax.legend(bbox_to_anchor=(1.05, 1), loc='upper left')  # Move legend outside of the chart border\n",
    "\n",
    "plt.tight_layout()  # Adjust layout to prevent clipping\n",
    "plt.show()"
   ]
  }
 ],
 "metadata": {
  "kernelspec": {
   "display_name": "Python 3 (ipykernel)",
   "language": "python",
   "name": "python3"
  },
  "language_info": {
   "codemirror_mode": {
    "name": "ipython",
    "version": 3
   },
   "file_extension": ".py",
   "mimetype": "text/x-python",
   "name": "python",
   "nbconvert_exporter": "python",
   "pygments_lexer": "ipython3",
   "version": "3.11.5"
  }
 },
 "nbformat": 4,
 "nbformat_minor": 2
}
